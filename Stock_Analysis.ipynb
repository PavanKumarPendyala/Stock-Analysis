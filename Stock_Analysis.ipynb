{
  "cells": [
    {
      "cell_type": "markdown",
      "source": [
        "#Importing Packages"
      ],
      "metadata": {
        "id": "N-Jhvt8-M9_j"
      }
    },
    {
      "cell_type": "code",
      "source": [
        "import pandas as pd \n",
        "import numpy as np\n",
        "import matplotlib.pyplot as plt\n",
        "from sklearn.preprocessing import MinMaxScaler\n",
        "from sklearn.ensemble import RandomForestRegressor\n",
        "from sklearn.metrics import mean_squared_error"
      ],
      "metadata": {
        "id": "vo_1nL0kNBR_"
      },
      "execution_count": null,
      "outputs": []
    },
    {
      "cell_type": "markdown",
      "source": [
        "# Importing Dataset"
      ],
      "metadata": {
        "id": "jJRpb1eBOpoE"
      }
    },
    {
      "cell_type": "code",
      "source": [
        "! pip install -q kaggle"
      ],
      "metadata": {
        "id": "fAf47fdCNExn"
      },
      "execution_count": null,
      "outputs": []
    },
    {
      "cell_type": "code",
      "source": [
        "! mkdir ~/.kaggle"
      ],
      "metadata": {
        "id": "fqVZ4-s7Nf-9"
      },
      "execution_count": null,
      "outputs": []
    },
    {
      "cell_type": "code",
      "source": [
        "! cp kaggle.json ~/.kaggle/"
      ],
      "metadata": {
        "id": "x65iQAt-NphU"
      },
      "execution_count": null,
      "outputs": []
    },
    {
      "cell_type": "code",
      "source": [
        "! chmod 600 ~/.kaggle/kaggle.json"
      ],
      "metadata": {
        "id": "lOQjgooANwZz"
      },
      "execution_count": null,
      "outputs": []
    },
    {
      "cell_type": "code",
      "source": [
        "! kaggle datasets download rohanrao/nifty50-stock-market-data"
      ],
      "metadata": {
        "colab": {
          "base_uri": "https://localhost:8080/"
        },
        "id": "-iVCCH2lN2KM",
        "outputId": "ef5bd262-ce94-418f-9c29-04916c3355da"
      },
      "execution_count": null,
      "outputs": [
        {
          "output_type": "stream",
          "name": "stdout",
          "text": [
            "Downloading nifty50-stock-market-data.zip to /content\n",
            " 76% 14.0M/18.4M [00:01<00:00, 22.4MB/s]\n",
            "100% 18.4M/18.4M [00:01<00:00, 17.4MB/s]\n"
          ]
        }
      ]
    },
    {
      "cell_type": "code",
      "source": [
        "! unzip nifty50-stock-market-data.zip"
      ],
      "metadata": {
        "colab": {
          "base_uri": "https://localhost:8080/"
        },
        "id": "p2g7O_VzOX7Q",
        "outputId": "a07fb41d-8500-4ab1-9860-47589ae00397"
      },
      "execution_count": null,
      "outputs": [
        {
          "output_type": "stream",
          "name": "stdout",
          "text": [
            "Archive:  nifty50-stock-market-data.zip\n",
            "  inflating: ADANIPORTS.csv          \n",
            "  inflating: ASIANPAINT.csv          \n",
            "  inflating: AXISBANK.csv            \n",
            "  inflating: BAJAJ-AUTO.csv          \n",
            "  inflating: BAJAJFINSV.csv          \n",
            "  inflating: BAJFINANCE.csv          \n",
            "  inflating: BHARTIARTL.csv          \n",
            "  inflating: BPCL.csv                \n",
            "  inflating: BRITANNIA.csv           \n",
            "  inflating: CIPLA.csv               \n",
            "  inflating: COALINDIA.csv           \n",
            "  inflating: DRREDDY.csv             \n",
            "  inflating: EICHERMOT.csv           \n",
            "  inflating: GAIL.csv                \n",
            "  inflating: GRASIM.csv              \n",
            "  inflating: HCLTECH.csv             \n",
            "  inflating: HDFC.csv                \n",
            "  inflating: HDFCBANK.csv            \n",
            "  inflating: HEROMOTOCO.csv          \n",
            "  inflating: HINDALCO.csv            \n",
            "  inflating: HINDUNILVR.csv          \n",
            "  inflating: ICICIBANK.csv           \n",
            "  inflating: INDUSINDBK.csv          \n",
            "  inflating: INFRATEL.csv            \n",
            "  inflating: INFY.csv                \n",
            "  inflating: IOC.csv                 \n",
            "  inflating: ITC.csv                 \n",
            "  inflating: JSWSTEEL.csv            \n",
            "  inflating: KOTAKBANK.csv           \n",
            "  inflating: LT.csv                  \n",
            "  inflating: MARUTI.csv              \n",
            "  inflating: MM.csv                  \n",
            "  inflating: NESTLEIND.csv           \n",
            "  inflating: NIFTY50_all.csv         \n",
            "  inflating: NTPC.csv                \n",
            "  inflating: ONGC.csv                \n",
            "  inflating: POWERGRID.csv           \n",
            "  inflating: RELIANCE.csv            \n",
            "  inflating: SBIN.csv                \n",
            "  inflating: SHREECEM.csv            \n",
            "  inflating: SUNPHARMA.csv           \n",
            "  inflating: TATAMOTORS.csv          \n",
            "  inflating: TATASTEEL.csv           \n",
            "  inflating: TCS.csv                 \n",
            "  inflating: TECHM.csv               \n",
            "  inflating: TITAN.csv               \n",
            "  inflating: ULTRACEMCO.csv          \n",
            "  inflating: UPL.csv                 \n",
            "  inflating: VEDL.csv                \n",
            "  inflating: WIPRO.csv               \n",
            "  inflating: ZEEL.csv                \n",
            "  inflating: stock_metadata.csv      \n"
          ]
        }
      ]
    },
    {
      "cell_type": "code",
      "source": [
        "tata_motors = pd.read_csv('TATAMOTORS.csv')\n",
        "tata_steel = pd.read_csv('TATASTEEL.csv')\n",
        "tcs = pd.read_csv('TCS.csv')"
      ],
      "metadata": {
        "id": "ggDj_Y51Og2K"
      },
      "execution_count": null,
      "outputs": []
    },
    {
      "cell_type": "markdown",
      "source": [
        "# Viewing Dataset"
      ],
      "metadata": {
        "id": "iPtMlDx6PDdV"
      }
    },
    {
      "cell_type": "code",
      "source": [
        "tata_motors.head()"
      ],
      "metadata": {
        "colab": {
          "base_uri": "https://localhost:8080/",
          "height": 206
        },
        "id": "vLcERonQOtvU",
        "outputId": "07edd1be-ea8c-43ef-96d2-9c557ed2fd5b"
      },
      "execution_count": null,
      "outputs": [
        {
          "output_type": "execute_result",
          "data": {
            "text/plain": [
              "         Date Symbol Series  Prev Close   Open    High    Low   Last   Close  \\\n",
              "0  2000-01-03  TELCO     EQ      201.60  207.4  217.25  207.4  217.0  216.75   \n",
              "1  2000-01-04  TELCO     EQ      216.75  217.0  219.00  206.0  211.9  208.20   \n",
              "2  2000-01-05  TELCO     EQ      208.20  194.0  217.80  194.0  213.1  213.25   \n",
              "3  2000-01-06  TELCO     EQ      213.25  215.0  229.90  215.0  222.0  222.10   \n",
              "4  2000-01-07  TELCO     EQ      222.10  224.0  239.90  223.1  239.9  239.90   \n",
              "\n",
              "     VWAP   Volume      Turnover  Trades  Deliverable Volume  %Deliverble  \n",
              "0  214.28   676126  1.448775e+13     NaN                 NaN          NaN  \n",
              "1  209.50   679215  1.422962e+13     NaN                 NaN          NaN  \n",
              "2  210.33  1120951  2.357684e+13     NaN                 NaN          NaN  \n",
              "3  225.29  1968998  4.435932e+13     NaN                 NaN          NaN  \n",
              "4  236.32  2199431  5.197636e+13     NaN                 NaN          NaN  "
            ],
            "text/html": [
              "\n",
              "  <div id=\"df-5414cbea-5506-493d-8d78-f145c63d3805\">\n",
              "    <div class=\"colab-df-container\">\n",
              "      <div>\n",
              "<style scoped>\n",
              "    .dataframe tbody tr th:only-of-type {\n",
              "        vertical-align: middle;\n",
              "    }\n",
              "\n",
              "    .dataframe tbody tr th {\n",
              "        vertical-align: top;\n",
              "    }\n",
              "\n",
              "    .dataframe thead th {\n",
              "        text-align: right;\n",
              "    }\n",
              "</style>\n",
              "<table border=\"1\" class=\"dataframe\">\n",
              "  <thead>\n",
              "    <tr style=\"text-align: right;\">\n",
              "      <th></th>\n",
              "      <th>Date</th>\n",
              "      <th>Symbol</th>\n",
              "      <th>Series</th>\n",
              "      <th>Prev Close</th>\n",
              "      <th>Open</th>\n",
              "      <th>High</th>\n",
              "      <th>Low</th>\n",
              "      <th>Last</th>\n",
              "      <th>Close</th>\n",
              "      <th>VWAP</th>\n",
              "      <th>Volume</th>\n",
              "      <th>Turnover</th>\n",
              "      <th>Trades</th>\n",
              "      <th>Deliverable Volume</th>\n",
              "      <th>%Deliverble</th>\n",
              "    </tr>\n",
              "  </thead>\n",
              "  <tbody>\n",
              "    <tr>\n",
              "      <th>0</th>\n",
              "      <td>2000-01-03</td>\n",
              "      <td>TELCO</td>\n",
              "      <td>EQ</td>\n",
              "      <td>201.60</td>\n",
              "      <td>207.4</td>\n",
              "      <td>217.25</td>\n",
              "      <td>207.4</td>\n",
              "      <td>217.0</td>\n",
              "      <td>216.75</td>\n",
              "      <td>214.28</td>\n",
              "      <td>676126</td>\n",
              "      <td>1.448775e+13</td>\n",
              "      <td>NaN</td>\n",
              "      <td>NaN</td>\n",
              "      <td>NaN</td>\n",
              "    </tr>\n",
              "    <tr>\n",
              "      <th>1</th>\n",
              "      <td>2000-01-04</td>\n",
              "      <td>TELCO</td>\n",
              "      <td>EQ</td>\n",
              "      <td>216.75</td>\n",
              "      <td>217.0</td>\n",
              "      <td>219.00</td>\n",
              "      <td>206.0</td>\n",
              "      <td>211.9</td>\n",
              "      <td>208.20</td>\n",
              "      <td>209.50</td>\n",
              "      <td>679215</td>\n",
              "      <td>1.422962e+13</td>\n",
              "      <td>NaN</td>\n",
              "      <td>NaN</td>\n",
              "      <td>NaN</td>\n",
              "    </tr>\n",
              "    <tr>\n",
              "      <th>2</th>\n",
              "      <td>2000-01-05</td>\n",
              "      <td>TELCO</td>\n",
              "      <td>EQ</td>\n",
              "      <td>208.20</td>\n",
              "      <td>194.0</td>\n",
              "      <td>217.80</td>\n",
              "      <td>194.0</td>\n",
              "      <td>213.1</td>\n",
              "      <td>213.25</td>\n",
              "      <td>210.33</td>\n",
              "      <td>1120951</td>\n",
              "      <td>2.357684e+13</td>\n",
              "      <td>NaN</td>\n",
              "      <td>NaN</td>\n",
              "      <td>NaN</td>\n",
              "    </tr>\n",
              "    <tr>\n",
              "      <th>3</th>\n",
              "      <td>2000-01-06</td>\n",
              "      <td>TELCO</td>\n",
              "      <td>EQ</td>\n",
              "      <td>213.25</td>\n",
              "      <td>215.0</td>\n",
              "      <td>229.90</td>\n",
              "      <td>215.0</td>\n",
              "      <td>222.0</td>\n",
              "      <td>222.10</td>\n",
              "      <td>225.29</td>\n",
              "      <td>1968998</td>\n",
              "      <td>4.435932e+13</td>\n",
              "      <td>NaN</td>\n",
              "      <td>NaN</td>\n",
              "      <td>NaN</td>\n",
              "    </tr>\n",
              "    <tr>\n",
              "      <th>4</th>\n",
              "      <td>2000-01-07</td>\n",
              "      <td>TELCO</td>\n",
              "      <td>EQ</td>\n",
              "      <td>222.10</td>\n",
              "      <td>224.0</td>\n",
              "      <td>239.90</td>\n",
              "      <td>223.1</td>\n",
              "      <td>239.9</td>\n",
              "      <td>239.90</td>\n",
              "      <td>236.32</td>\n",
              "      <td>2199431</td>\n",
              "      <td>5.197636e+13</td>\n",
              "      <td>NaN</td>\n",
              "      <td>NaN</td>\n",
              "      <td>NaN</td>\n",
              "    </tr>\n",
              "  </tbody>\n",
              "</table>\n",
              "</div>\n",
              "      <button class=\"colab-df-convert\" onclick=\"convertToInteractive('df-5414cbea-5506-493d-8d78-f145c63d3805')\"\n",
              "              title=\"Convert this dataframe to an interactive table.\"\n",
              "              style=\"display:none;\">\n",
              "        \n",
              "  <svg xmlns=\"http://www.w3.org/2000/svg\" height=\"24px\"viewBox=\"0 0 24 24\"\n",
              "       width=\"24px\">\n",
              "    <path d=\"M0 0h24v24H0V0z\" fill=\"none\"/>\n",
              "    <path d=\"M18.56 5.44l.94 2.06.94-2.06 2.06-.94-2.06-.94-.94-2.06-.94 2.06-2.06.94zm-11 1L8.5 8.5l.94-2.06 2.06-.94-2.06-.94L8.5 2.5l-.94 2.06-2.06.94zm10 10l.94 2.06.94-2.06 2.06-.94-2.06-.94-.94-2.06-.94 2.06-2.06.94z\"/><path d=\"M17.41 7.96l-1.37-1.37c-.4-.4-.92-.59-1.43-.59-.52 0-1.04.2-1.43.59L10.3 9.45l-7.72 7.72c-.78.78-.78 2.05 0 2.83L4 21.41c.39.39.9.59 1.41.59.51 0 1.02-.2 1.41-.59l7.78-7.78 2.81-2.81c.8-.78.8-2.07 0-2.86zM5.41 20L4 18.59l7.72-7.72 1.47 1.35L5.41 20z\"/>\n",
              "  </svg>\n",
              "      </button>\n",
              "      \n",
              "  <style>\n",
              "    .colab-df-container {\n",
              "      display:flex;\n",
              "      flex-wrap:wrap;\n",
              "      gap: 12px;\n",
              "    }\n",
              "\n",
              "    .colab-df-convert {\n",
              "      background-color: #E8F0FE;\n",
              "      border: none;\n",
              "      border-radius: 50%;\n",
              "      cursor: pointer;\n",
              "      display: none;\n",
              "      fill: #1967D2;\n",
              "      height: 32px;\n",
              "      padding: 0 0 0 0;\n",
              "      width: 32px;\n",
              "    }\n",
              "\n",
              "    .colab-df-convert:hover {\n",
              "      background-color: #E2EBFA;\n",
              "      box-shadow: 0px 1px 2px rgba(60, 64, 67, 0.3), 0px 1px 3px 1px rgba(60, 64, 67, 0.15);\n",
              "      fill: #174EA6;\n",
              "    }\n",
              "\n",
              "    [theme=dark] .colab-df-convert {\n",
              "      background-color: #3B4455;\n",
              "      fill: #D2E3FC;\n",
              "    }\n",
              "\n",
              "    [theme=dark] .colab-df-convert:hover {\n",
              "      background-color: #434B5C;\n",
              "      box-shadow: 0px 1px 3px 1px rgba(0, 0, 0, 0.15);\n",
              "      filter: drop-shadow(0px 1px 2px rgba(0, 0, 0, 0.3));\n",
              "      fill: #FFFFFF;\n",
              "    }\n",
              "  </style>\n",
              "\n",
              "      <script>\n",
              "        const buttonEl =\n",
              "          document.querySelector('#df-5414cbea-5506-493d-8d78-f145c63d3805 button.colab-df-convert');\n",
              "        buttonEl.style.display =\n",
              "          google.colab.kernel.accessAllowed ? 'block' : 'none';\n",
              "\n",
              "        async function convertToInteractive(key) {\n",
              "          const element = document.querySelector('#df-5414cbea-5506-493d-8d78-f145c63d3805');\n",
              "          const dataTable =\n",
              "            await google.colab.kernel.invokeFunction('convertToInteractive',\n",
              "                                                     [key], {});\n",
              "          if (!dataTable) return;\n",
              "\n",
              "          const docLinkHtml = 'Like what you see? Visit the ' +\n",
              "            '<a target=\"_blank\" href=https://colab.research.google.com/notebooks/data_table.ipynb>data table notebook</a>'\n",
              "            + ' to learn more about interactive tables.';\n",
              "          element.innerHTML = '';\n",
              "          dataTable['output_type'] = 'display_data';\n",
              "          await google.colab.output.renderOutput(dataTable, element);\n",
              "          const docLink = document.createElement('div');\n",
              "          docLink.innerHTML = docLinkHtml;\n",
              "          element.appendChild(docLink);\n",
              "        }\n",
              "      </script>\n",
              "    </div>\n",
              "  </div>\n",
              "  "
            ]
          },
          "metadata": {},
          "execution_count": 9
        }
      ]
    },
    {
      "cell_type": "code",
      "source": [
        "tata_steel.head()"
      ],
      "metadata": {
        "colab": {
          "base_uri": "https://localhost:8080/",
          "height": 206
        },
        "id": "osMeGGsKPF7n",
        "outputId": "da85cef0-5299-4154-de87-b1d44938c849"
      },
      "execution_count": null,
      "outputs": [
        {
          "output_type": "execute_result",
          "data": {
            "text/plain": [
              "         Date Symbol Series  Prev Close    Open   High     Low    Last  \\\n",
              "0  2000-01-03  TISCO     EQ      142.35  148.00  153.2  146.10  152.50   \n",
              "1  2000-01-04  TISCO     EQ      152.45  150.10  153.0  143.05  151.95   \n",
              "2  2000-01-05  TISCO     EQ      150.80  144.60  162.9  144.60  158.00   \n",
              "3  2000-01-06  TISCO     EQ      156.55  158.95  169.1  158.95  169.00   \n",
              "4  2000-01-07  TISCO     EQ      168.25  173.40  179.0  166.30  170.55   \n",
              "\n",
              "    Close    VWAP   Volume      Turnover  Trades  Deliverable Volume  \\\n",
              "0  152.45  150.92  2003185  3.023164e+13     NaN                 NaN   \n",
              "1  150.80  151.03  1555136  2.348785e+13     NaN                 NaN   \n",
              "2  156.55  156.85  3840284  6.023364e+13     NaN                 NaN   \n",
              "3  168.25  167.61  2560449  4.291530e+13     NaN                 NaN   \n",
              "4  171.95  173.89  3641691  6.332459e+13     NaN                 NaN   \n",
              "\n",
              "   %Deliverble  \n",
              "0          NaN  \n",
              "1          NaN  \n",
              "2          NaN  \n",
              "3          NaN  \n",
              "4          NaN  "
            ],
            "text/html": [
              "\n",
              "  <div id=\"df-744a93a2-6f60-4d6e-b427-1b65320ef992\">\n",
              "    <div class=\"colab-df-container\">\n",
              "      <div>\n",
              "<style scoped>\n",
              "    .dataframe tbody tr th:only-of-type {\n",
              "        vertical-align: middle;\n",
              "    }\n",
              "\n",
              "    .dataframe tbody tr th {\n",
              "        vertical-align: top;\n",
              "    }\n",
              "\n",
              "    .dataframe thead th {\n",
              "        text-align: right;\n",
              "    }\n",
              "</style>\n",
              "<table border=\"1\" class=\"dataframe\">\n",
              "  <thead>\n",
              "    <tr style=\"text-align: right;\">\n",
              "      <th></th>\n",
              "      <th>Date</th>\n",
              "      <th>Symbol</th>\n",
              "      <th>Series</th>\n",
              "      <th>Prev Close</th>\n",
              "      <th>Open</th>\n",
              "      <th>High</th>\n",
              "      <th>Low</th>\n",
              "      <th>Last</th>\n",
              "      <th>Close</th>\n",
              "      <th>VWAP</th>\n",
              "      <th>Volume</th>\n",
              "      <th>Turnover</th>\n",
              "      <th>Trades</th>\n",
              "      <th>Deliverable Volume</th>\n",
              "      <th>%Deliverble</th>\n",
              "    </tr>\n",
              "  </thead>\n",
              "  <tbody>\n",
              "    <tr>\n",
              "      <th>0</th>\n",
              "      <td>2000-01-03</td>\n",
              "      <td>TISCO</td>\n",
              "      <td>EQ</td>\n",
              "      <td>142.35</td>\n",
              "      <td>148.00</td>\n",
              "      <td>153.2</td>\n",
              "      <td>146.10</td>\n",
              "      <td>152.50</td>\n",
              "      <td>152.45</td>\n",
              "      <td>150.92</td>\n",
              "      <td>2003185</td>\n",
              "      <td>3.023164e+13</td>\n",
              "      <td>NaN</td>\n",
              "      <td>NaN</td>\n",
              "      <td>NaN</td>\n",
              "    </tr>\n",
              "    <tr>\n",
              "      <th>1</th>\n",
              "      <td>2000-01-04</td>\n",
              "      <td>TISCO</td>\n",
              "      <td>EQ</td>\n",
              "      <td>152.45</td>\n",
              "      <td>150.10</td>\n",
              "      <td>153.0</td>\n",
              "      <td>143.05</td>\n",
              "      <td>151.95</td>\n",
              "      <td>150.80</td>\n",
              "      <td>151.03</td>\n",
              "      <td>1555136</td>\n",
              "      <td>2.348785e+13</td>\n",
              "      <td>NaN</td>\n",
              "      <td>NaN</td>\n",
              "      <td>NaN</td>\n",
              "    </tr>\n",
              "    <tr>\n",
              "      <th>2</th>\n",
              "      <td>2000-01-05</td>\n",
              "      <td>TISCO</td>\n",
              "      <td>EQ</td>\n",
              "      <td>150.80</td>\n",
              "      <td>144.60</td>\n",
              "      <td>162.9</td>\n",
              "      <td>144.60</td>\n",
              "      <td>158.00</td>\n",
              "      <td>156.55</td>\n",
              "      <td>156.85</td>\n",
              "      <td>3840284</td>\n",
              "      <td>6.023364e+13</td>\n",
              "      <td>NaN</td>\n",
              "      <td>NaN</td>\n",
              "      <td>NaN</td>\n",
              "    </tr>\n",
              "    <tr>\n",
              "      <th>3</th>\n",
              "      <td>2000-01-06</td>\n",
              "      <td>TISCO</td>\n",
              "      <td>EQ</td>\n",
              "      <td>156.55</td>\n",
              "      <td>158.95</td>\n",
              "      <td>169.1</td>\n",
              "      <td>158.95</td>\n",
              "      <td>169.00</td>\n",
              "      <td>168.25</td>\n",
              "      <td>167.61</td>\n",
              "      <td>2560449</td>\n",
              "      <td>4.291530e+13</td>\n",
              "      <td>NaN</td>\n",
              "      <td>NaN</td>\n",
              "      <td>NaN</td>\n",
              "    </tr>\n",
              "    <tr>\n",
              "      <th>4</th>\n",
              "      <td>2000-01-07</td>\n",
              "      <td>TISCO</td>\n",
              "      <td>EQ</td>\n",
              "      <td>168.25</td>\n",
              "      <td>173.40</td>\n",
              "      <td>179.0</td>\n",
              "      <td>166.30</td>\n",
              "      <td>170.55</td>\n",
              "      <td>171.95</td>\n",
              "      <td>173.89</td>\n",
              "      <td>3641691</td>\n",
              "      <td>6.332459e+13</td>\n",
              "      <td>NaN</td>\n",
              "      <td>NaN</td>\n",
              "      <td>NaN</td>\n",
              "    </tr>\n",
              "  </tbody>\n",
              "</table>\n",
              "</div>\n",
              "      <button class=\"colab-df-convert\" onclick=\"convertToInteractive('df-744a93a2-6f60-4d6e-b427-1b65320ef992')\"\n",
              "              title=\"Convert this dataframe to an interactive table.\"\n",
              "              style=\"display:none;\">\n",
              "        \n",
              "  <svg xmlns=\"http://www.w3.org/2000/svg\" height=\"24px\"viewBox=\"0 0 24 24\"\n",
              "       width=\"24px\">\n",
              "    <path d=\"M0 0h24v24H0V0z\" fill=\"none\"/>\n",
              "    <path d=\"M18.56 5.44l.94 2.06.94-2.06 2.06-.94-2.06-.94-.94-2.06-.94 2.06-2.06.94zm-11 1L8.5 8.5l.94-2.06 2.06-.94-2.06-.94L8.5 2.5l-.94 2.06-2.06.94zm10 10l.94 2.06.94-2.06 2.06-.94-2.06-.94-.94-2.06-.94 2.06-2.06.94z\"/><path d=\"M17.41 7.96l-1.37-1.37c-.4-.4-.92-.59-1.43-.59-.52 0-1.04.2-1.43.59L10.3 9.45l-7.72 7.72c-.78.78-.78 2.05 0 2.83L4 21.41c.39.39.9.59 1.41.59.51 0 1.02-.2 1.41-.59l7.78-7.78 2.81-2.81c.8-.78.8-2.07 0-2.86zM5.41 20L4 18.59l7.72-7.72 1.47 1.35L5.41 20z\"/>\n",
              "  </svg>\n",
              "      </button>\n",
              "      \n",
              "  <style>\n",
              "    .colab-df-container {\n",
              "      display:flex;\n",
              "      flex-wrap:wrap;\n",
              "      gap: 12px;\n",
              "    }\n",
              "\n",
              "    .colab-df-convert {\n",
              "      background-color: #E8F0FE;\n",
              "      border: none;\n",
              "      border-radius: 50%;\n",
              "      cursor: pointer;\n",
              "      display: none;\n",
              "      fill: #1967D2;\n",
              "      height: 32px;\n",
              "      padding: 0 0 0 0;\n",
              "      width: 32px;\n",
              "    }\n",
              "\n",
              "    .colab-df-convert:hover {\n",
              "      background-color: #E2EBFA;\n",
              "      box-shadow: 0px 1px 2px rgba(60, 64, 67, 0.3), 0px 1px 3px 1px rgba(60, 64, 67, 0.15);\n",
              "      fill: #174EA6;\n",
              "    }\n",
              "\n",
              "    [theme=dark] .colab-df-convert {\n",
              "      background-color: #3B4455;\n",
              "      fill: #D2E3FC;\n",
              "    }\n",
              "\n",
              "    [theme=dark] .colab-df-convert:hover {\n",
              "      background-color: #434B5C;\n",
              "      box-shadow: 0px 1px 3px 1px rgba(0, 0, 0, 0.15);\n",
              "      filter: drop-shadow(0px 1px 2px rgba(0, 0, 0, 0.3));\n",
              "      fill: #FFFFFF;\n",
              "    }\n",
              "  </style>\n",
              "\n",
              "      <script>\n",
              "        const buttonEl =\n",
              "          document.querySelector('#df-744a93a2-6f60-4d6e-b427-1b65320ef992 button.colab-df-convert');\n",
              "        buttonEl.style.display =\n",
              "          google.colab.kernel.accessAllowed ? 'block' : 'none';\n",
              "\n",
              "        async function convertToInteractive(key) {\n",
              "          const element = document.querySelector('#df-744a93a2-6f60-4d6e-b427-1b65320ef992');\n",
              "          const dataTable =\n",
              "            await google.colab.kernel.invokeFunction('convertToInteractive',\n",
              "                                                     [key], {});\n",
              "          if (!dataTable) return;\n",
              "\n",
              "          const docLinkHtml = 'Like what you see? Visit the ' +\n",
              "            '<a target=\"_blank\" href=https://colab.research.google.com/notebooks/data_table.ipynb>data table notebook</a>'\n",
              "            + ' to learn more about interactive tables.';\n",
              "          element.innerHTML = '';\n",
              "          dataTable['output_type'] = 'display_data';\n",
              "          await google.colab.output.renderOutput(dataTable, element);\n",
              "          const docLink = document.createElement('div');\n",
              "          docLink.innerHTML = docLinkHtml;\n",
              "          element.appendChild(docLink);\n",
              "        }\n",
              "      </script>\n",
              "    </div>\n",
              "  </div>\n",
              "  "
            ]
          },
          "metadata": {},
          "execution_count": 10
        }
      ]
    },
    {
      "cell_type": "code",
      "source": [
        "tcs.head()"
      ],
      "metadata": {
        "colab": {
          "base_uri": "https://localhost:8080/",
          "height": 206
        },
        "id": "1bhzj12QPIYr",
        "outputId": "c1eafd59-c6f8-4361-a6d4-be3492f1c9b7"
      },
      "execution_count": null,
      "outputs": [
        {
          "output_type": "execute_result",
          "data": {
            "text/plain": [
              "         Date Symbol Series  Prev Close    Open    High     Low    Last  \\\n",
              "0  2004-08-25    TCS     EQ      850.00  1198.7  1198.7  979.00  985.00   \n",
              "1  2004-08-26    TCS     EQ      987.95   992.0   997.0  975.30  976.85   \n",
              "2  2004-08-27    TCS     EQ      979.00   982.4   982.4  958.55  961.20   \n",
              "3  2004-08-30    TCS     EQ      962.65   969.9   990.0  965.00  986.40   \n",
              "4  2004-08-31    TCS     EQ      986.75   986.5   990.0  976.00  987.80   \n",
              "\n",
              "    Close     VWAP    Volume      Turnover  Trades  Deliverable Volume  \\\n",
              "0  987.95  1008.32  17116372  1.725876e+15     NaN             5206360   \n",
              "1  979.00   985.65   5055400  4.982865e+14     NaN             1294899   \n",
              "2  962.65   969.94   3830750  3.715586e+14     NaN              976527   \n",
              "3  986.75   982.65   3058151  3.005106e+14     NaN              701664   \n",
              "4  988.10   982.18   2649332  2.602133e+14     NaN              695234   \n",
              "\n",
              "   %Deliverble  \n",
              "0       0.3042  \n",
              "1       0.2561  \n",
              "2       0.2549  \n",
              "3       0.2294  \n",
              "4       0.2624  "
            ],
            "text/html": [
              "\n",
              "  <div id=\"df-1837df26-8e59-4ef1-8f73-c1e931c1bbb6\">\n",
              "    <div class=\"colab-df-container\">\n",
              "      <div>\n",
              "<style scoped>\n",
              "    .dataframe tbody tr th:only-of-type {\n",
              "        vertical-align: middle;\n",
              "    }\n",
              "\n",
              "    .dataframe tbody tr th {\n",
              "        vertical-align: top;\n",
              "    }\n",
              "\n",
              "    .dataframe thead th {\n",
              "        text-align: right;\n",
              "    }\n",
              "</style>\n",
              "<table border=\"1\" class=\"dataframe\">\n",
              "  <thead>\n",
              "    <tr style=\"text-align: right;\">\n",
              "      <th></th>\n",
              "      <th>Date</th>\n",
              "      <th>Symbol</th>\n",
              "      <th>Series</th>\n",
              "      <th>Prev Close</th>\n",
              "      <th>Open</th>\n",
              "      <th>High</th>\n",
              "      <th>Low</th>\n",
              "      <th>Last</th>\n",
              "      <th>Close</th>\n",
              "      <th>VWAP</th>\n",
              "      <th>Volume</th>\n",
              "      <th>Turnover</th>\n",
              "      <th>Trades</th>\n",
              "      <th>Deliverable Volume</th>\n",
              "      <th>%Deliverble</th>\n",
              "    </tr>\n",
              "  </thead>\n",
              "  <tbody>\n",
              "    <tr>\n",
              "      <th>0</th>\n",
              "      <td>2004-08-25</td>\n",
              "      <td>TCS</td>\n",
              "      <td>EQ</td>\n",
              "      <td>850.00</td>\n",
              "      <td>1198.7</td>\n",
              "      <td>1198.7</td>\n",
              "      <td>979.00</td>\n",
              "      <td>985.00</td>\n",
              "      <td>987.95</td>\n",
              "      <td>1008.32</td>\n",
              "      <td>17116372</td>\n",
              "      <td>1.725876e+15</td>\n",
              "      <td>NaN</td>\n",
              "      <td>5206360</td>\n",
              "      <td>0.3042</td>\n",
              "    </tr>\n",
              "    <tr>\n",
              "      <th>1</th>\n",
              "      <td>2004-08-26</td>\n",
              "      <td>TCS</td>\n",
              "      <td>EQ</td>\n",
              "      <td>987.95</td>\n",
              "      <td>992.0</td>\n",
              "      <td>997.0</td>\n",
              "      <td>975.30</td>\n",
              "      <td>976.85</td>\n",
              "      <td>979.00</td>\n",
              "      <td>985.65</td>\n",
              "      <td>5055400</td>\n",
              "      <td>4.982865e+14</td>\n",
              "      <td>NaN</td>\n",
              "      <td>1294899</td>\n",
              "      <td>0.2561</td>\n",
              "    </tr>\n",
              "    <tr>\n",
              "      <th>2</th>\n",
              "      <td>2004-08-27</td>\n",
              "      <td>TCS</td>\n",
              "      <td>EQ</td>\n",
              "      <td>979.00</td>\n",
              "      <td>982.4</td>\n",
              "      <td>982.4</td>\n",
              "      <td>958.55</td>\n",
              "      <td>961.20</td>\n",
              "      <td>962.65</td>\n",
              "      <td>969.94</td>\n",
              "      <td>3830750</td>\n",
              "      <td>3.715586e+14</td>\n",
              "      <td>NaN</td>\n",
              "      <td>976527</td>\n",
              "      <td>0.2549</td>\n",
              "    </tr>\n",
              "    <tr>\n",
              "      <th>3</th>\n",
              "      <td>2004-08-30</td>\n",
              "      <td>TCS</td>\n",
              "      <td>EQ</td>\n",
              "      <td>962.65</td>\n",
              "      <td>969.9</td>\n",
              "      <td>990.0</td>\n",
              "      <td>965.00</td>\n",
              "      <td>986.40</td>\n",
              "      <td>986.75</td>\n",
              "      <td>982.65</td>\n",
              "      <td>3058151</td>\n",
              "      <td>3.005106e+14</td>\n",
              "      <td>NaN</td>\n",
              "      <td>701664</td>\n",
              "      <td>0.2294</td>\n",
              "    </tr>\n",
              "    <tr>\n",
              "      <th>4</th>\n",
              "      <td>2004-08-31</td>\n",
              "      <td>TCS</td>\n",
              "      <td>EQ</td>\n",
              "      <td>986.75</td>\n",
              "      <td>986.5</td>\n",
              "      <td>990.0</td>\n",
              "      <td>976.00</td>\n",
              "      <td>987.80</td>\n",
              "      <td>988.10</td>\n",
              "      <td>982.18</td>\n",
              "      <td>2649332</td>\n",
              "      <td>2.602133e+14</td>\n",
              "      <td>NaN</td>\n",
              "      <td>695234</td>\n",
              "      <td>0.2624</td>\n",
              "    </tr>\n",
              "  </tbody>\n",
              "</table>\n",
              "</div>\n",
              "      <button class=\"colab-df-convert\" onclick=\"convertToInteractive('df-1837df26-8e59-4ef1-8f73-c1e931c1bbb6')\"\n",
              "              title=\"Convert this dataframe to an interactive table.\"\n",
              "              style=\"display:none;\">\n",
              "        \n",
              "  <svg xmlns=\"http://www.w3.org/2000/svg\" height=\"24px\"viewBox=\"0 0 24 24\"\n",
              "       width=\"24px\">\n",
              "    <path d=\"M0 0h24v24H0V0z\" fill=\"none\"/>\n",
              "    <path d=\"M18.56 5.44l.94 2.06.94-2.06 2.06-.94-2.06-.94-.94-2.06-.94 2.06-2.06.94zm-11 1L8.5 8.5l.94-2.06 2.06-.94-2.06-.94L8.5 2.5l-.94 2.06-2.06.94zm10 10l.94 2.06.94-2.06 2.06-.94-2.06-.94-.94-2.06-.94 2.06-2.06.94z\"/><path d=\"M17.41 7.96l-1.37-1.37c-.4-.4-.92-.59-1.43-.59-.52 0-1.04.2-1.43.59L10.3 9.45l-7.72 7.72c-.78.78-.78 2.05 0 2.83L4 21.41c.39.39.9.59 1.41.59.51 0 1.02-.2 1.41-.59l7.78-7.78 2.81-2.81c.8-.78.8-2.07 0-2.86zM5.41 20L4 18.59l7.72-7.72 1.47 1.35L5.41 20z\"/>\n",
              "  </svg>\n",
              "      </button>\n",
              "      \n",
              "  <style>\n",
              "    .colab-df-container {\n",
              "      display:flex;\n",
              "      flex-wrap:wrap;\n",
              "      gap: 12px;\n",
              "    }\n",
              "\n",
              "    .colab-df-convert {\n",
              "      background-color: #E8F0FE;\n",
              "      border: none;\n",
              "      border-radius: 50%;\n",
              "      cursor: pointer;\n",
              "      display: none;\n",
              "      fill: #1967D2;\n",
              "      height: 32px;\n",
              "      padding: 0 0 0 0;\n",
              "      width: 32px;\n",
              "    }\n",
              "\n",
              "    .colab-df-convert:hover {\n",
              "      background-color: #E2EBFA;\n",
              "      box-shadow: 0px 1px 2px rgba(60, 64, 67, 0.3), 0px 1px 3px 1px rgba(60, 64, 67, 0.15);\n",
              "      fill: #174EA6;\n",
              "    }\n",
              "\n",
              "    [theme=dark] .colab-df-convert {\n",
              "      background-color: #3B4455;\n",
              "      fill: #D2E3FC;\n",
              "    }\n",
              "\n",
              "    [theme=dark] .colab-df-convert:hover {\n",
              "      background-color: #434B5C;\n",
              "      box-shadow: 0px 1px 3px 1px rgba(0, 0, 0, 0.15);\n",
              "      filter: drop-shadow(0px 1px 2px rgba(0, 0, 0, 0.3));\n",
              "      fill: #FFFFFF;\n",
              "    }\n",
              "  </style>\n",
              "\n",
              "      <script>\n",
              "        const buttonEl =\n",
              "          document.querySelector('#df-1837df26-8e59-4ef1-8f73-c1e931c1bbb6 button.colab-df-convert');\n",
              "        buttonEl.style.display =\n",
              "          google.colab.kernel.accessAllowed ? 'block' : 'none';\n",
              "\n",
              "        async function convertToInteractive(key) {\n",
              "          const element = document.querySelector('#df-1837df26-8e59-4ef1-8f73-c1e931c1bbb6');\n",
              "          const dataTable =\n",
              "            await google.colab.kernel.invokeFunction('convertToInteractive',\n",
              "                                                     [key], {});\n",
              "          if (!dataTable) return;\n",
              "\n",
              "          const docLinkHtml = 'Like what you see? Visit the ' +\n",
              "            '<a target=\"_blank\" href=https://colab.research.google.com/notebooks/data_table.ipynb>data table notebook</a>'\n",
              "            + ' to learn more about interactive tables.';\n",
              "          element.innerHTML = '';\n",
              "          dataTable['output_type'] = 'display_data';\n",
              "          await google.colab.output.renderOutput(dataTable, element);\n",
              "          const docLink = document.createElement('div');\n",
              "          docLink.innerHTML = docLinkHtml;\n",
              "          element.appendChild(docLink);\n",
              "        }\n",
              "      </script>\n",
              "    </div>\n",
              "  </div>\n",
              "  "
            ]
          },
          "metadata": {},
          "execution_count": 11
        }
      ]
    },
    {
      "cell_type": "code",
      "source": [
        "#all have some numbers of variables\n",
        "print(\" tata_motors dataset: \",tata_motors.shape)\n",
        "print(\" tata_steel dataset: \",tata_steel.shape)\n",
        "print(\" tcs dataset: \",tcs.shape)"
      ],
      "metadata": {
        "colab": {
          "base_uri": "https://localhost:8080/"
        },
        "id": "aIMCuG-CPKfg",
        "outputId": "d71bc959-fd65-47a1-d47a-a11d4571943f"
      },
      "execution_count": null,
      "outputs": [
        {
          "output_type": "stream",
          "name": "stdout",
          "text": [
            " tata_motors dataset:  (5306, 15)\n",
            " tata_steel dataset:  (5306, 15)\n",
            " tcs dataset:  (4139, 15)\n"
          ]
        }
      ]
    },
    {
      "cell_type": "code",
      "source": [
        "print(\" tata_motors dataset: \",tata_motors.info())\n",
        "print(\" tata_steel dataset: \",tata_steel.info())\n",
        "print(\" tcs dataset: \",tcs.info())"
      ],
      "metadata": {
        "colab": {
          "base_uri": "https://localhost:8080/"
        },
        "id": "qbpuBs2kPNu3",
        "outputId": "6094ae8b-1b1d-42d9-f601-c0b7a630b899"
      },
      "execution_count": null,
      "outputs": [
        {
          "output_type": "stream",
          "name": "stdout",
          "text": [
            "<class 'pandas.core.frame.DataFrame'>\n",
            "RangeIndex: 5306 entries, 0 to 5305\n",
            "Data columns (total 15 columns):\n",
            " #   Column              Non-Null Count  Dtype  \n",
            "---  ------              --------------  -----  \n",
            " 0   Date                5306 non-null   object \n",
            " 1   Symbol              5306 non-null   object \n",
            " 2   Series              5306 non-null   object \n",
            " 3   Prev Close          5306 non-null   float64\n",
            " 4   Open                5306 non-null   float64\n",
            " 5   High                5306 non-null   float64\n",
            " 6   Low                 5306 non-null   float64\n",
            " 7   Last                5306 non-null   float64\n",
            " 8   Close               5306 non-null   float64\n",
            " 9   VWAP                5306 non-null   float64\n",
            " 10  Volume              5306 non-null   int64  \n",
            " 11  Turnover            5306 non-null   float64\n",
            " 12  Trades              2456 non-null   float64\n",
            " 13  Deliverable Volume  4792 non-null   float64\n",
            " 14  %Deliverble         4792 non-null   float64\n",
            "dtypes: float64(11), int64(1), object(3)\n",
            "memory usage: 621.9+ KB\n",
            " tata_motors dataset:  None\n",
            "<class 'pandas.core.frame.DataFrame'>\n",
            "RangeIndex: 5306 entries, 0 to 5305\n",
            "Data columns (total 15 columns):\n",
            " #   Column              Non-Null Count  Dtype  \n",
            "---  ------              --------------  -----  \n",
            " 0   Date                5306 non-null   object \n",
            " 1   Symbol              5306 non-null   object \n",
            " 2   Series              5306 non-null   object \n",
            " 3   Prev Close          5306 non-null   float64\n",
            " 4   Open                5306 non-null   float64\n",
            " 5   High                5306 non-null   float64\n",
            " 6   Low                 5306 non-null   float64\n",
            " 7   Last                5306 non-null   float64\n",
            " 8   Close               5306 non-null   float64\n",
            " 9   VWAP                5306 non-null   float64\n",
            " 10  Volume              5306 non-null   int64  \n",
            " 11  Turnover            5306 non-null   float64\n",
            " 12  Trades              2456 non-null   float64\n",
            " 13  Deliverable Volume  4792 non-null   float64\n",
            " 14  %Deliverble         4792 non-null   float64\n",
            "dtypes: float64(11), int64(1), object(3)\n",
            "memory usage: 621.9+ KB\n",
            " tata_steel dataset:  None\n",
            "<class 'pandas.core.frame.DataFrame'>\n",
            "RangeIndex: 4139 entries, 0 to 4138\n",
            "Data columns (total 15 columns):\n",
            " #   Column              Non-Null Count  Dtype  \n",
            "---  ------              --------------  -----  \n",
            " 0   Date                4139 non-null   object \n",
            " 1   Symbol              4139 non-null   object \n",
            " 2   Series              4139 non-null   object \n",
            " 3   Prev Close          4139 non-null   float64\n",
            " 4   Open                4139 non-null   float64\n",
            " 5   High                4139 non-null   float64\n",
            " 6   Low                 4139 non-null   float64\n",
            " 7   Last                4139 non-null   float64\n",
            " 8   Close               4139 non-null   float64\n",
            " 9   VWAP                4139 non-null   float64\n",
            " 10  Volume              4139 non-null   int64  \n",
            " 11  Turnover            4139 non-null   float64\n",
            " 12  Trades              2456 non-null   float64\n",
            " 13  Deliverable Volume  4139 non-null   int64  \n",
            " 14  %Deliverble         4139 non-null   float64\n",
            "dtypes: float64(10), int64(2), object(3)\n",
            "memory usage: 485.2+ KB\n",
            " tcs dataset:  None\n"
          ]
        }
      ]
    },
    {
      "cell_type": "markdown",
      "source": [
        "Date is in Object form so it should be corrected"
      ],
      "metadata": {
        "id": "LX_Zud0ePW9w"
      }
    },
    {
      "cell_type": "code",
      "source": [
        "tata_motors['Date'] = pd.to_datetime(tata_motors['Date'])\n",
        "tata_steel['Date'] = pd.to_datetime(tata_steel['Date'])\n",
        "tcs['Date'] = pd.to_datetime(tcs['Date'])"
      ],
      "metadata": {
        "id": "9BY2gem-PR0X"
      },
      "execution_count": null,
      "outputs": []
    },
    {
      "cell_type": "code",
      "source": [
        "print(\" tata_motors dataset: \",tata_motors.isnull().sum() / len(tata_motors) * 100)\n",
        "print(\" tata_steel dataset: \",tata_steel.isnull().sum() / len(tata_steel) * 100)\n",
        "print(\" tcs dataset: \",tcs.isnull().sum() / len(tcs) * 100)"
      ],
      "metadata": {
        "colab": {
          "base_uri": "https://localhost:8080/"
        },
        "id": "IlGlbdLpPZd9",
        "outputId": "9e59ac81-f3e3-471e-bcf3-9c646aec32c2"
      },
      "execution_count": null,
      "outputs": [
        {
          "output_type": "stream",
          "name": "stdout",
          "text": [
            " tata_motors dataset:  Date                   0.000000\n",
            "Symbol                 0.000000\n",
            "Series                 0.000000\n",
            "Prev Close             0.000000\n",
            "Open                   0.000000\n",
            "High                   0.000000\n",
            "Low                    0.000000\n",
            "Last                   0.000000\n",
            "Close                  0.000000\n",
            "VWAP                   0.000000\n",
            "Volume                 0.000000\n",
            "Turnover               0.000000\n",
            "Trades                53.712778\n",
            "Deliverable Volume     9.687147\n",
            "%Deliverble            9.687147\n",
            "dtype: float64\n",
            " tata_steel dataset:  Date                   0.000000\n",
            "Symbol                 0.000000\n",
            "Series                 0.000000\n",
            "Prev Close             0.000000\n",
            "Open                   0.000000\n",
            "High                   0.000000\n",
            "Low                    0.000000\n",
            "Last                   0.000000\n",
            "Close                  0.000000\n",
            "VWAP                   0.000000\n",
            "Volume                 0.000000\n",
            "Turnover               0.000000\n",
            "Trades                53.712778\n",
            "Deliverable Volume     9.687147\n",
            "%Deliverble            9.687147\n",
            "dtype: float64\n",
            " tcs dataset:  Date                   0.000000\n",
            "Symbol                 0.000000\n",
            "Series                 0.000000\n",
            "Prev Close             0.000000\n",
            "Open                   0.000000\n",
            "High                   0.000000\n",
            "Low                    0.000000\n",
            "Last                   0.000000\n",
            "Close                  0.000000\n",
            "VWAP                   0.000000\n",
            "Volume                 0.000000\n",
            "Turnover               0.000000\n",
            "Trades                40.661996\n",
            "Deliverable Volume     0.000000\n",
            "%Deliverble            0.000000\n",
            "dtype: float64\n"
          ]
        }
      ]
    },
    {
      "cell_type": "code",
      "source": [
        "# droping null values \n",
        "tata_motors = tata_motors.drop(['Trades','Deliverable Volume','%Deliverble'],axis=1)\n",
        "tata_steel = tata_steel.drop(['Trades','Deliverable Volume','%Deliverble'],axis=1)\n",
        "tcs = tcs.drop(['Trades','Deliverable Volume','%Deliverble'],axis=1)"
      ],
      "metadata": {
        "id": "23WczjA8PbIV"
      },
      "execution_count": null,
      "outputs": []
    },
    {
      "cell_type": "code",
      "source": [
        "print(\" tata_motors dataset: \",tata_motors.duplicated().sum())\n",
        "print(\" tata_steel dataset: \",tata_steel.duplicated().sum())\n",
        "print(\" tcs dataset: \",tcs.duplicated().sum())"
      ],
      "metadata": {
        "colab": {
          "base_uri": "https://localhost:8080/"
        },
        "id": "xQLYfQx4PiZm",
        "outputId": "3bbc0706-0961-4530-cd5c-69dd24d50e4d"
      },
      "execution_count": null,
      "outputs": [
        {
          "output_type": "stream",
          "name": "stdout",
          "text": [
            " tata_motors dataset:  0\n",
            " tata_steel dataset:  0\n",
            " tcs dataset:  0\n"
          ]
        }
      ]
    },
    {
      "cell_type": "code",
      "source": [
        "print(\"Shape of tata_motors dataset: \",tata_motors.shape)\n",
        "print(\"Shape of tata_steel dataset: \",tata_steel.shape)\n",
        "print(\"Shape of tcs dataset: \",tcs.shape)"
      ],
      "metadata": {
        "colab": {
          "base_uri": "https://localhost:8080/"
        },
        "id": "HK43GFkuPk6s",
        "outputId": "84e9e5f7-974c-49ad-f90c-3008fd5f82e0"
      },
      "execution_count": null,
      "outputs": [
        {
          "output_type": "stream",
          "name": "stdout",
          "text": [
            "Shape of tata_motors dataset:  (5306, 12)\n",
            "Shape of tata_steel dataset:  (5306, 12)\n",
            "Shape of tcs dataset:  (4139, 12)\n"
          ]
        }
      ]
    },
    {
      "cell_type": "code",
      "source": [
        "print(\"Columns of tata_motors dataset: \",tata_motors.columns)\n",
        "print(\"Columns of tata_steel dataset: \",tata_steel.columns)\n",
        "print(\"Columns of tcs dataset: \",tcs.columns)"
      ],
      "metadata": {
        "colab": {
          "base_uri": "https://localhost:8080/"
        },
        "id": "chvniUKwPm4l",
        "outputId": "2f9e05c0-b5d6-43ef-cb3b-a0daf77c9296"
      },
      "execution_count": null,
      "outputs": [
        {
          "output_type": "stream",
          "name": "stdout",
          "text": [
            "Columns of tata_motors dataset:  Index(['Date', 'Symbol', 'Series', 'Prev Close', 'Open', 'High', 'Low', 'Last',\n",
            "       'Close', 'VWAP', 'Volume', 'Turnover'],\n",
            "      dtype='object')\n",
            "Columns of tata_steel dataset:  Index(['Date', 'Symbol', 'Series', 'Prev Close', 'Open', 'High', 'Low', 'Last',\n",
            "       'Close', 'VWAP', 'Volume', 'Turnover'],\n",
            "      dtype='object')\n",
            "Columns of tcs dataset:  Index(['Date', 'Symbol', 'Series', 'Prev Close', 'Open', 'High', 'Low', 'Last',\n",
            "       'Close', 'VWAP', 'Volume', 'Turnover'],\n",
            "      dtype='object')\n"
          ]
        }
      ]
    },
    {
      "cell_type": "code",
      "source": [
        "tata_motors.describe().round(2)"
      ],
      "metadata": {
        "colab": {
          "base_uri": "https://localhost:8080/",
          "height": 300
        },
        "id": "6lwjKSSnPoyp",
        "outputId": "ab2e9d66-5d72-47fd-f687-0b53b4d9e99d"
      },
      "execution_count": null,
      "outputs": [
        {
          "output_type": "execute_result",
          "data": {
            "text/plain": [
              "       Prev Close     Open     High      Low     Last    Close     VWAP  \\\n",
              "count     5306.00  5306.00  5306.00  5306.00  5306.00  5306.00  5306.00   \n",
              "mean       409.43   410.15   417.12   402.18   409.45   409.45   409.76   \n",
              "std        272.48   272.97   277.02   268.03   272.52   272.47   272.49   \n",
              "min         58.80    58.00    60.70    57.55    58.75    58.80    59.24   \n",
              "25%        174.60   174.76   178.82   171.01   174.72   174.60   175.18   \n",
              "50%        377.25   378.90   384.75   372.60   377.52   377.25   378.46   \n",
              "75%        523.15   523.48   530.80   515.91   523.49   523.15   523.72   \n",
              "max       1365.15  1361.00  1382.00  1347.00  1362.00  1365.15  1362.15   \n",
              "\n",
              "             Volume      Turnover  \n",
              "count  5.306000e+03  5.306000e+03  \n",
              "mean   1.046560e+07  2.790772e+14  \n",
              "std    2.185034e+07  4.674351e+14  \n",
              "min    1.235100e+04  1.069384e+11  \n",
              "25%    1.668994e+06  7.049025e+13  \n",
              "50%    4.141648e+06  1.967418e+14  \n",
              "75%    8.706037e+06  3.175959e+14  \n",
              "max    3.905778e+08  9.365671e+15  "
            ],
            "text/html": [
              "\n",
              "  <div id=\"df-4a716163-2c1e-47d8-8781-6c699b482af6\">\n",
              "    <div class=\"colab-df-container\">\n",
              "      <div>\n",
              "<style scoped>\n",
              "    .dataframe tbody tr th:only-of-type {\n",
              "        vertical-align: middle;\n",
              "    }\n",
              "\n",
              "    .dataframe tbody tr th {\n",
              "        vertical-align: top;\n",
              "    }\n",
              "\n",
              "    .dataframe thead th {\n",
              "        text-align: right;\n",
              "    }\n",
              "</style>\n",
              "<table border=\"1\" class=\"dataframe\">\n",
              "  <thead>\n",
              "    <tr style=\"text-align: right;\">\n",
              "      <th></th>\n",
              "      <th>Prev Close</th>\n",
              "      <th>Open</th>\n",
              "      <th>High</th>\n",
              "      <th>Low</th>\n",
              "      <th>Last</th>\n",
              "      <th>Close</th>\n",
              "      <th>VWAP</th>\n",
              "      <th>Volume</th>\n",
              "      <th>Turnover</th>\n",
              "    </tr>\n",
              "  </thead>\n",
              "  <tbody>\n",
              "    <tr>\n",
              "      <th>count</th>\n",
              "      <td>5306.00</td>\n",
              "      <td>5306.00</td>\n",
              "      <td>5306.00</td>\n",
              "      <td>5306.00</td>\n",
              "      <td>5306.00</td>\n",
              "      <td>5306.00</td>\n",
              "      <td>5306.00</td>\n",
              "      <td>5.306000e+03</td>\n",
              "      <td>5.306000e+03</td>\n",
              "    </tr>\n",
              "    <tr>\n",
              "      <th>mean</th>\n",
              "      <td>409.43</td>\n",
              "      <td>410.15</td>\n",
              "      <td>417.12</td>\n",
              "      <td>402.18</td>\n",
              "      <td>409.45</td>\n",
              "      <td>409.45</td>\n",
              "      <td>409.76</td>\n",
              "      <td>1.046560e+07</td>\n",
              "      <td>2.790772e+14</td>\n",
              "    </tr>\n",
              "    <tr>\n",
              "      <th>std</th>\n",
              "      <td>272.48</td>\n",
              "      <td>272.97</td>\n",
              "      <td>277.02</td>\n",
              "      <td>268.03</td>\n",
              "      <td>272.52</td>\n",
              "      <td>272.47</td>\n",
              "      <td>272.49</td>\n",
              "      <td>2.185034e+07</td>\n",
              "      <td>4.674351e+14</td>\n",
              "    </tr>\n",
              "    <tr>\n",
              "      <th>min</th>\n",
              "      <td>58.80</td>\n",
              "      <td>58.00</td>\n",
              "      <td>60.70</td>\n",
              "      <td>57.55</td>\n",
              "      <td>58.75</td>\n",
              "      <td>58.80</td>\n",
              "      <td>59.24</td>\n",
              "      <td>1.235100e+04</td>\n",
              "      <td>1.069384e+11</td>\n",
              "    </tr>\n",
              "    <tr>\n",
              "      <th>25%</th>\n",
              "      <td>174.60</td>\n",
              "      <td>174.76</td>\n",
              "      <td>178.82</td>\n",
              "      <td>171.01</td>\n",
              "      <td>174.72</td>\n",
              "      <td>174.60</td>\n",
              "      <td>175.18</td>\n",
              "      <td>1.668994e+06</td>\n",
              "      <td>7.049025e+13</td>\n",
              "    </tr>\n",
              "    <tr>\n",
              "      <th>50%</th>\n",
              "      <td>377.25</td>\n",
              "      <td>378.90</td>\n",
              "      <td>384.75</td>\n",
              "      <td>372.60</td>\n",
              "      <td>377.52</td>\n",
              "      <td>377.25</td>\n",
              "      <td>378.46</td>\n",
              "      <td>4.141648e+06</td>\n",
              "      <td>1.967418e+14</td>\n",
              "    </tr>\n",
              "    <tr>\n",
              "      <th>75%</th>\n",
              "      <td>523.15</td>\n",
              "      <td>523.48</td>\n",
              "      <td>530.80</td>\n",
              "      <td>515.91</td>\n",
              "      <td>523.49</td>\n",
              "      <td>523.15</td>\n",
              "      <td>523.72</td>\n",
              "      <td>8.706037e+06</td>\n",
              "      <td>3.175959e+14</td>\n",
              "    </tr>\n",
              "    <tr>\n",
              "      <th>max</th>\n",
              "      <td>1365.15</td>\n",
              "      <td>1361.00</td>\n",
              "      <td>1382.00</td>\n",
              "      <td>1347.00</td>\n",
              "      <td>1362.00</td>\n",
              "      <td>1365.15</td>\n",
              "      <td>1362.15</td>\n",
              "      <td>3.905778e+08</td>\n",
              "      <td>9.365671e+15</td>\n",
              "    </tr>\n",
              "  </tbody>\n",
              "</table>\n",
              "</div>\n",
              "      <button class=\"colab-df-convert\" onclick=\"convertToInteractive('df-4a716163-2c1e-47d8-8781-6c699b482af6')\"\n",
              "              title=\"Convert this dataframe to an interactive table.\"\n",
              "              style=\"display:none;\">\n",
              "        \n",
              "  <svg xmlns=\"http://www.w3.org/2000/svg\" height=\"24px\"viewBox=\"0 0 24 24\"\n",
              "       width=\"24px\">\n",
              "    <path d=\"M0 0h24v24H0V0z\" fill=\"none\"/>\n",
              "    <path d=\"M18.56 5.44l.94 2.06.94-2.06 2.06-.94-2.06-.94-.94-2.06-.94 2.06-2.06.94zm-11 1L8.5 8.5l.94-2.06 2.06-.94-2.06-.94L8.5 2.5l-.94 2.06-2.06.94zm10 10l.94 2.06.94-2.06 2.06-.94-2.06-.94-.94-2.06-.94 2.06-2.06.94z\"/><path d=\"M17.41 7.96l-1.37-1.37c-.4-.4-.92-.59-1.43-.59-.52 0-1.04.2-1.43.59L10.3 9.45l-7.72 7.72c-.78.78-.78 2.05 0 2.83L4 21.41c.39.39.9.59 1.41.59.51 0 1.02-.2 1.41-.59l7.78-7.78 2.81-2.81c.8-.78.8-2.07 0-2.86zM5.41 20L4 18.59l7.72-7.72 1.47 1.35L5.41 20z\"/>\n",
              "  </svg>\n",
              "      </button>\n",
              "      \n",
              "  <style>\n",
              "    .colab-df-container {\n",
              "      display:flex;\n",
              "      flex-wrap:wrap;\n",
              "      gap: 12px;\n",
              "    }\n",
              "\n",
              "    .colab-df-convert {\n",
              "      background-color: #E8F0FE;\n",
              "      border: none;\n",
              "      border-radius: 50%;\n",
              "      cursor: pointer;\n",
              "      display: none;\n",
              "      fill: #1967D2;\n",
              "      height: 32px;\n",
              "      padding: 0 0 0 0;\n",
              "      width: 32px;\n",
              "    }\n",
              "\n",
              "    .colab-df-convert:hover {\n",
              "      background-color: #E2EBFA;\n",
              "      box-shadow: 0px 1px 2px rgba(60, 64, 67, 0.3), 0px 1px 3px 1px rgba(60, 64, 67, 0.15);\n",
              "      fill: #174EA6;\n",
              "    }\n",
              "\n",
              "    [theme=dark] .colab-df-convert {\n",
              "      background-color: #3B4455;\n",
              "      fill: #D2E3FC;\n",
              "    }\n",
              "\n",
              "    [theme=dark] .colab-df-convert:hover {\n",
              "      background-color: #434B5C;\n",
              "      box-shadow: 0px 1px 3px 1px rgba(0, 0, 0, 0.15);\n",
              "      filter: drop-shadow(0px 1px 2px rgba(0, 0, 0, 0.3));\n",
              "      fill: #FFFFFF;\n",
              "    }\n",
              "  </style>\n",
              "\n",
              "      <script>\n",
              "        const buttonEl =\n",
              "          document.querySelector('#df-4a716163-2c1e-47d8-8781-6c699b482af6 button.colab-df-convert');\n",
              "        buttonEl.style.display =\n",
              "          google.colab.kernel.accessAllowed ? 'block' : 'none';\n",
              "\n",
              "        async function convertToInteractive(key) {\n",
              "          const element = document.querySelector('#df-4a716163-2c1e-47d8-8781-6c699b482af6');\n",
              "          const dataTable =\n",
              "            await google.colab.kernel.invokeFunction('convertToInteractive',\n",
              "                                                     [key], {});\n",
              "          if (!dataTable) return;\n",
              "\n",
              "          const docLinkHtml = 'Like what you see? Visit the ' +\n",
              "            '<a target=\"_blank\" href=https://colab.research.google.com/notebooks/data_table.ipynb>data table notebook</a>'\n",
              "            + ' to learn more about interactive tables.';\n",
              "          element.innerHTML = '';\n",
              "          dataTable['output_type'] = 'display_data';\n",
              "          await google.colab.output.renderOutput(dataTable, element);\n",
              "          const docLink = document.createElement('div');\n",
              "          docLink.innerHTML = docLinkHtml;\n",
              "          element.appendChild(docLink);\n",
              "        }\n",
              "      </script>\n",
              "    </div>\n",
              "  </div>\n",
              "  "
            ]
          },
          "metadata": {},
          "execution_count": 20
        }
      ]
    },
    {
      "cell_type": "code",
      "source": [
        "tata_steel.describe().round(2)"
      ],
      "metadata": {
        "colab": {
          "base_uri": "https://localhost:8080/",
          "height": 300
        },
        "id": "-HTHcDmwP4Lx",
        "outputId": "83d734c9-839d-4fe0-fda2-74f8ced5bdbe"
      },
      "execution_count": null,
      "outputs": [
        {
          "output_type": "execute_result",
          "data": {
            "text/plain": [
              "       Prev Close     Open     High      Low     Last    Close     VWAP  \\\n",
              "count     5306.00  5306.00  5306.00  5306.00  5306.00  5306.00  5306.00   \n",
              "mean       403.39   404.25   411.21   396.51   403.47   403.55   404.06   \n",
              "std        187.15   187.56   190.79   183.86   187.27   187.31   187.44   \n",
              "min         67.25    66.00    69.70    66.00    67.30    67.25    67.97   \n",
              "25%        275.77   275.60   284.41   270.00   275.81   275.94   276.94   \n",
              "50%        402.85   403.00   409.38   396.65   402.70   402.90   403.43   \n",
              "75%        523.99   525.00   534.72   516.49   523.95   524.08   525.23   \n",
              "max       1031.35  1024.00  1052.60  1011.10  1035.00  1034.00  1031.95   \n",
              "\n",
              "            Volume      Turnover  \n",
              "count      5306.00  5.306000e+03  \n",
              "mean    6165253.31  2.664876e+14  \n",
              "std     5329084.46  3.012861e+14  \n",
              "min       23291.00  2.159165e+11  \n",
              "25%     2801379.50  1.118719e+14  \n",
              "50%     4800300.50  1.949303e+14  \n",
              "75%     7833888.00  3.379640e+14  \n",
              "max    64284599.00  4.881124e+15  "
            ],
            "text/html": [
              "\n",
              "  <div id=\"df-a3161ee7-b02a-48bb-8728-106a6329a668\">\n",
              "    <div class=\"colab-df-container\">\n",
              "      <div>\n",
              "<style scoped>\n",
              "    .dataframe tbody tr th:only-of-type {\n",
              "        vertical-align: middle;\n",
              "    }\n",
              "\n",
              "    .dataframe tbody tr th {\n",
              "        vertical-align: top;\n",
              "    }\n",
              "\n",
              "    .dataframe thead th {\n",
              "        text-align: right;\n",
              "    }\n",
              "</style>\n",
              "<table border=\"1\" class=\"dataframe\">\n",
              "  <thead>\n",
              "    <tr style=\"text-align: right;\">\n",
              "      <th></th>\n",
              "      <th>Prev Close</th>\n",
              "      <th>Open</th>\n",
              "      <th>High</th>\n",
              "      <th>Low</th>\n",
              "      <th>Last</th>\n",
              "      <th>Close</th>\n",
              "      <th>VWAP</th>\n",
              "      <th>Volume</th>\n",
              "      <th>Turnover</th>\n",
              "    </tr>\n",
              "  </thead>\n",
              "  <tbody>\n",
              "    <tr>\n",
              "      <th>count</th>\n",
              "      <td>5306.00</td>\n",
              "      <td>5306.00</td>\n",
              "      <td>5306.00</td>\n",
              "      <td>5306.00</td>\n",
              "      <td>5306.00</td>\n",
              "      <td>5306.00</td>\n",
              "      <td>5306.00</td>\n",
              "      <td>5306.00</td>\n",
              "      <td>5.306000e+03</td>\n",
              "    </tr>\n",
              "    <tr>\n",
              "      <th>mean</th>\n",
              "      <td>403.39</td>\n",
              "      <td>404.25</td>\n",
              "      <td>411.21</td>\n",
              "      <td>396.51</td>\n",
              "      <td>403.47</td>\n",
              "      <td>403.55</td>\n",
              "      <td>404.06</td>\n",
              "      <td>6165253.31</td>\n",
              "      <td>2.664876e+14</td>\n",
              "    </tr>\n",
              "    <tr>\n",
              "      <th>std</th>\n",
              "      <td>187.15</td>\n",
              "      <td>187.56</td>\n",
              "      <td>190.79</td>\n",
              "      <td>183.86</td>\n",
              "      <td>187.27</td>\n",
              "      <td>187.31</td>\n",
              "      <td>187.44</td>\n",
              "      <td>5329084.46</td>\n",
              "      <td>3.012861e+14</td>\n",
              "    </tr>\n",
              "    <tr>\n",
              "      <th>min</th>\n",
              "      <td>67.25</td>\n",
              "      <td>66.00</td>\n",
              "      <td>69.70</td>\n",
              "      <td>66.00</td>\n",
              "      <td>67.30</td>\n",
              "      <td>67.25</td>\n",
              "      <td>67.97</td>\n",
              "      <td>23291.00</td>\n",
              "      <td>2.159165e+11</td>\n",
              "    </tr>\n",
              "    <tr>\n",
              "      <th>25%</th>\n",
              "      <td>275.77</td>\n",
              "      <td>275.60</td>\n",
              "      <td>284.41</td>\n",
              "      <td>270.00</td>\n",
              "      <td>275.81</td>\n",
              "      <td>275.94</td>\n",
              "      <td>276.94</td>\n",
              "      <td>2801379.50</td>\n",
              "      <td>1.118719e+14</td>\n",
              "    </tr>\n",
              "    <tr>\n",
              "      <th>50%</th>\n",
              "      <td>402.85</td>\n",
              "      <td>403.00</td>\n",
              "      <td>409.38</td>\n",
              "      <td>396.65</td>\n",
              "      <td>402.70</td>\n",
              "      <td>402.90</td>\n",
              "      <td>403.43</td>\n",
              "      <td>4800300.50</td>\n",
              "      <td>1.949303e+14</td>\n",
              "    </tr>\n",
              "    <tr>\n",
              "      <th>75%</th>\n",
              "      <td>523.99</td>\n",
              "      <td>525.00</td>\n",
              "      <td>534.72</td>\n",
              "      <td>516.49</td>\n",
              "      <td>523.95</td>\n",
              "      <td>524.08</td>\n",
              "      <td>525.23</td>\n",
              "      <td>7833888.00</td>\n",
              "      <td>3.379640e+14</td>\n",
              "    </tr>\n",
              "    <tr>\n",
              "      <th>max</th>\n",
              "      <td>1031.35</td>\n",
              "      <td>1024.00</td>\n",
              "      <td>1052.60</td>\n",
              "      <td>1011.10</td>\n",
              "      <td>1035.00</td>\n",
              "      <td>1034.00</td>\n",
              "      <td>1031.95</td>\n",
              "      <td>64284599.00</td>\n",
              "      <td>4.881124e+15</td>\n",
              "    </tr>\n",
              "  </tbody>\n",
              "</table>\n",
              "</div>\n",
              "      <button class=\"colab-df-convert\" onclick=\"convertToInteractive('df-a3161ee7-b02a-48bb-8728-106a6329a668')\"\n",
              "              title=\"Convert this dataframe to an interactive table.\"\n",
              "              style=\"display:none;\">\n",
              "        \n",
              "  <svg xmlns=\"http://www.w3.org/2000/svg\" height=\"24px\"viewBox=\"0 0 24 24\"\n",
              "       width=\"24px\">\n",
              "    <path d=\"M0 0h24v24H0V0z\" fill=\"none\"/>\n",
              "    <path d=\"M18.56 5.44l.94 2.06.94-2.06 2.06-.94-2.06-.94-.94-2.06-.94 2.06-2.06.94zm-11 1L8.5 8.5l.94-2.06 2.06-.94-2.06-.94L8.5 2.5l-.94 2.06-2.06.94zm10 10l.94 2.06.94-2.06 2.06-.94-2.06-.94-.94-2.06-.94 2.06-2.06.94z\"/><path d=\"M17.41 7.96l-1.37-1.37c-.4-.4-.92-.59-1.43-.59-.52 0-1.04.2-1.43.59L10.3 9.45l-7.72 7.72c-.78.78-.78 2.05 0 2.83L4 21.41c.39.39.9.59 1.41.59.51 0 1.02-.2 1.41-.59l7.78-7.78 2.81-2.81c.8-.78.8-2.07 0-2.86zM5.41 20L4 18.59l7.72-7.72 1.47 1.35L5.41 20z\"/>\n",
              "  </svg>\n",
              "      </button>\n",
              "      \n",
              "  <style>\n",
              "    .colab-df-container {\n",
              "      display:flex;\n",
              "      flex-wrap:wrap;\n",
              "      gap: 12px;\n",
              "    }\n",
              "\n",
              "    .colab-df-convert {\n",
              "      background-color: #E8F0FE;\n",
              "      border: none;\n",
              "      border-radius: 50%;\n",
              "      cursor: pointer;\n",
              "      display: none;\n",
              "      fill: #1967D2;\n",
              "      height: 32px;\n",
              "      padding: 0 0 0 0;\n",
              "      width: 32px;\n",
              "    }\n",
              "\n",
              "    .colab-df-convert:hover {\n",
              "      background-color: #E2EBFA;\n",
              "      box-shadow: 0px 1px 2px rgba(60, 64, 67, 0.3), 0px 1px 3px 1px rgba(60, 64, 67, 0.15);\n",
              "      fill: #174EA6;\n",
              "    }\n",
              "\n",
              "    [theme=dark] .colab-df-convert {\n",
              "      background-color: #3B4455;\n",
              "      fill: #D2E3FC;\n",
              "    }\n",
              "\n",
              "    [theme=dark] .colab-df-convert:hover {\n",
              "      background-color: #434B5C;\n",
              "      box-shadow: 0px 1px 3px 1px rgba(0, 0, 0, 0.15);\n",
              "      filter: drop-shadow(0px 1px 2px rgba(0, 0, 0, 0.3));\n",
              "      fill: #FFFFFF;\n",
              "    }\n",
              "  </style>\n",
              "\n",
              "      <script>\n",
              "        const buttonEl =\n",
              "          document.querySelector('#df-a3161ee7-b02a-48bb-8728-106a6329a668 button.colab-df-convert');\n",
              "        buttonEl.style.display =\n",
              "          google.colab.kernel.accessAllowed ? 'block' : 'none';\n",
              "\n",
              "        async function convertToInteractive(key) {\n",
              "          const element = document.querySelector('#df-a3161ee7-b02a-48bb-8728-106a6329a668');\n",
              "          const dataTable =\n",
              "            await google.colab.kernel.invokeFunction('convertToInteractive',\n",
              "                                                     [key], {});\n",
              "          if (!dataTable) return;\n",
              "\n",
              "          const docLinkHtml = 'Like what you see? Visit the ' +\n",
              "            '<a target=\"_blank\" href=https://colab.research.google.com/notebooks/data_table.ipynb>data table notebook</a>'\n",
              "            + ' to learn more about interactive tables.';\n",
              "          element.innerHTML = '';\n",
              "          dataTable['output_type'] = 'display_data';\n",
              "          await google.colab.output.renderOutput(dataTable, element);\n",
              "          const docLink = document.createElement('div');\n",
              "          docLink.innerHTML = docLinkHtml;\n",
              "          element.appendChild(docLink);\n",
              "        }\n",
              "      </script>\n",
              "    </div>\n",
              "  </div>\n",
              "  "
            ]
          },
          "metadata": {},
          "execution_count": 21
        }
      ]
    },
    {
      "cell_type": "code",
      "source": [
        "tcs.describe().round(2)"
      ],
      "metadata": {
        "colab": {
          "base_uri": "https://localhost:8080/",
          "height": 300
        },
        "id": "5uHj1MbBP5zJ",
        "outputId": "166466ea-bd93-4342-f125-ce3fd1a973a0"
      },
      "execution_count": null,
      "outputs": [
        {
          "output_type": "execute_result",
          "data": {
            "text/plain": [
              "       Prev Close     Open     High      Low     Last    Close     VWAP  \\\n",
              "count     4139.00  4139.00  4139.00  4139.00  4139.00  4139.00  4139.00   \n",
              "mean      1693.84  1695.59  1715.88  1673.59  1694.31  1694.37  1694.62   \n",
              "std        722.88   722.98   728.45   717.78   723.18   723.06   723.14   \n",
              "min        366.65   360.00   377.75   358.00   365.70   366.65   368.40   \n",
              "25%       1106.25  1105.53  1120.28  1088.58  1107.00  1106.50  1105.75   \n",
              "50%       1633.50  1625.00  1655.00  1610.00  1630.05  1636.35  1629.42   \n",
              "75%       2326.12  2321.80  2345.00  2301.30  2325.00  2326.85  2319.90   \n",
              "max       3603.70  3625.00  3674.80  3572.55  3610.75  3603.70  3633.11   \n",
              "\n",
              "            Volume      Turnover  \n",
              "count      4139.00  4.139000e+03  \n",
              "mean    1676761.95  2.952102e+14  \n",
              "std     1607879.26  3.849370e+14  \n",
              "min       18345.00  1.370237e+12  \n",
              "25%      788477.50  1.050834e+14  \n",
              "50%     1227748.00  1.824973e+14  \n",
              "75%     2081119.50  3.455393e+14  \n",
              "max    44033577.00  1.268362e+16  "
            ],
            "text/html": [
              "\n",
              "  <div id=\"df-de84a4fc-fcc7-4b19-a351-6a5994a6565c\">\n",
              "    <div class=\"colab-df-container\">\n",
              "      <div>\n",
              "<style scoped>\n",
              "    .dataframe tbody tr th:only-of-type {\n",
              "        vertical-align: middle;\n",
              "    }\n",
              "\n",
              "    .dataframe tbody tr th {\n",
              "        vertical-align: top;\n",
              "    }\n",
              "\n",
              "    .dataframe thead th {\n",
              "        text-align: right;\n",
              "    }\n",
              "</style>\n",
              "<table border=\"1\" class=\"dataframe\">\n",
              "  <thead>\n",
              "    <tr style=\"text-align: right;\">\n",
              "      <th></th>\n",
              "      <th>Prev Close</th>\n",
              "      <th>Open</th>\n",
              "      <th>High</th>\n",
              "      <th>Low</th>\n",
              "      <th>Last</th>\n",
              "      <th>Close</th>\n",
              "      <th>VWAP</th>\n",
              "      <th>Volume</th>\n",
              "      <th>Turnover</th>\n",
              "    </tr>\n",
              "  </thead>\n",
              "  <tbody>\n",
              "    <tr>\n",
              "      <th>count</th>\n",
              "      <td>4139.00</td>\n",
              "      <td>4139.00</td>\n",
              "      <td>4139.00</td>\n",
              "      <td>4139.00</td>\n",
              "      <td>4139.00</td>\n",
              "      <td>4139.00</td>\n",
              "      <td>4139.00</td>\n",
              "      <td>4139.00</td>\n",
              "      <td>4.139000e+03</td>\n",
              "    </tr>\n",
              "    <tr>\n",
              "      <th>mean</th>\n",
              "      <td>1693.84</td>\n",
              "      <td>1695.59</td>\n",
              "      <td>1715.88</td>\n",
              "      <td>1673.59</td>\n",
              "      <td>1694.31</td>\n",
              "      <td>1694.37</td>\n",
              "      <td>1694.62</td>\n",
              "      <td>1676761.95</td>\n",
              "      <td>2.952102e+14</td>\n",
              "    </tr>\n",
              "    <tr>\n",
              "      <th>std</th>\n",
              "      <td>722.88</td>\n",
              "      <td>722.98</td>\n",
              "      <td>728.45</td>\n",
              "      <td>717.78</td>\n",
              "      <td>723.18</td>\n",
              "      <td>723.06</td>\n",
              "      <td>723.14</td>\n",
              "      <td>1607879.26</td>\n",
              "      <td>3.849370e+14</td>\n",
              "    </tr>\n",
              "    <tr>\n",
              "      <th>min</th>\n",
              "      <td>366.65</td>\n",
              "      <td>360.00</td>\n",
              "      <td>377.75</td>\n",
              "      <td>358.00</td>\n",
              "      <td>365.70</td>\n",
              "      <td>366.65</td>\n",
              "      <td>368.40</td>\n",
              "      <td>18345.00</td>\n",
              "      <td>1.370237e+12</td>\n",
              "    </tr>\n",
              "    <tr>\n",
              "      <th>25%</th>\n",
              "      <td>1106.25</td>\n",
              "      <td>1105.53</td>\n",
              "      <td>1120.28</td>\n",
              "      <td>1088.58</td>\n",
              "      <td>1107.00</td>\n",
              "      <td>1106.50</td>\n",
              "      <td>1105.75</td>\n",
              "      <td>788477.50</td>\n",
              "      <td>1.050834e+14</td>\n",
              "    </tr>\n",
              "    <tr>\n",
              "      <th>50%</th>\n",
              "      <td>1633.50</td>\n",
              "      <td>1625.00</td>\n",
              "      <td>1655.00</td>\n",
              "      <td>1610.00</td>\n",
              "      <td>1630.05</td>\n",
              "      <td>1636.35</td>\n",
              "      <td>1629.42</td>\n",
              "      <td>1227748.00</td>\n",
              "      <td>1.824973e+14</td>\n",
              "    </tr>\n",
              "    <tr>\n",
              "      <th>75%</th>\n",
              "      <td>2326.12</td>\n",
              "      <td>2321.80</td>\n",
              "      <td>2345.00</td>\n",
              "      <td>2301.30</td>\n",
              "      <td>2325.00</td>\n",
              "      <td>2326.85</td>\n",
              "      <td>2319.90</td>\n",
              "      <td>2081119.50</td>\n",
              "      <td>3.455393e+14</td>\n",
              "    </tr>\n",
              "    <tr>\n",
              "      <th>max</th>\n",
              "      <td>3603.70</td>\n",
              "      <td>3625.00</td>\n",
              "      <td>3674.80</td>\n",
              "      <td>3572.55</td>\n",
              "      <td>3610.75</td>\n",
              "      <td>3603.70</td>\n",
              "      <td>3633.11</td>\n",
              "      <td>44033577.00</td>\n",
              "      <td>1.268362e+16</td>\n",
              "    </tr>\n",
              "  </tbody>\n",
              "</table>\n",
              "</div>\n",
              "      <button class=\"colab-df-convert\" onclick=\"convertToInteractive('df-de84a4fc-fcc7-4b19-a351-6a5994a6565c')\"\n",
              "              title=\"Convert this dataframe to an interactive table.\"\n",
              "              style=\"display:none;\">\n",
              "        \n",
              "  <svg xmlns=\"http://www.w3.org/2000/svg\" height=\"24px\"viewBox=\"0 0 24 24\"\n",
              "       width=\"24px\">\n",
              "    <path d=\"M0 0h24v24H0V0z\" fill=\"none\"/>\n",
              "    <path d=\"M18.56 5.44l.94 2.06.94-2.06 2.06-.94-2.06-.94-.94-2.06-.94 2.06-2.06.94zm-11 1L8.5 8.5l.94-2.06 2.06-.94-2.06-.94L8.5 2.5l-.94 2.06-2.06.94zm10 10l.94 2.06.94-2.06 2.06-.94-2.06-.94-.94-2.06-.94 2.06-2.06.94z\"/><path d=\"M17.41 7.96l-1.37-1.37c-.4-.4-.92-.59-1.43-.59-.52 0-1.04.2-1.43.59L10.3 9.45l-7.72 7.72c-.78.78-.78 2.05 0 2.83L4 21.41c.39.39.9.59 1.41.59.51 0 1.02-.2 1.41-.59l7.78-7.78 2.81-2.81c.8-.78.8-2.07 0-2.86zM5.41 20L4 18.59l7.72-7.72 1.47 1.35L5.41 20z\"/>\n",
              "  </svg>\n",
              "      </button>\n",
              "      \n",
              "  <style>\n",
              "    .colab-df-container {\n",
              "      display:flex;\n",
              "      flex-wrap:wrap;\n",
              "      gap: 12px;\n",
              "    }\n",
              "\n",
              "    .colab-df-convert {\n",
              "      background-color: #E8F0FE;\n",
              "      border: none;\n",
              "      border-radius: 50%;\n",
              "      cursor: pointer;\n",
              "      display: none;\n",
              "      fill: #1967D2;\n",
              "      height: 32px;\n",
              "      padding: 0 0 0 0;\n",
              "      width: 32px;\n",
              "    }\n",
              "\n",
              "    .colab-df-convert:hover {\n",
              "      background-color: #E2EBFA;\n",
              "      box-shadow: 0px 1px 2px rgba(60, 64, 67, 0.3), 0px 1px 3px 1px rgba(60, 64, 67, 0.15);\n",
              "      fill: #174EA6;\n",
              "    }\n",
              "\n",
              "    [theme=dark] .colab-df-convert {\n",
              "      background-color: #3B4455;\n",
              "      fill: #D2E3FC;\n",
              "    }\n",
              "\n",
              "    [theme=dark] .colab-df-convert:hover {\n",
              "      background-color: #434B5C;\n",
              "      box-shadow: 0px 1px 3px 1px rgba(0, 0, 0, 0.15);\n",
              "      filter: drop-shadow(0px 1px 2px rgba(0, 0, 0, 0.3));\n",
              "      fill: #FFFFFF;\n",
              "    }\n",
              "  </style>\n",
              "\n",
              "      <script>\n",
              "        const buttonEl =\n",
              "          document.querySelector('#df-de84a4fc-fcc7-4b19-a351-6a5994a6565c button.colab-df-convert');\n",
              "        buttonEl.style.display =\n",
              "          google.colab.kernel.accessAllowed ? 'block' : 'none';\n",
              "\n",
              "        async function convertToInteractive(key) {\n",
              "          const element = document.querySelector('#df-de84a4fc-fcc7-4b19-a351-6a5994a6565c');\n",
              "          const dataTable =\n",
              "            await google.colab.kernel.invokeFunction('convertToInteractive',\n",
              "                                                     [key], {});\n",
              "          if (!dataTable) return;\n",
              "\n",
              "          const docLinkHtml = 'Like what you see? Visit the ' +\n",
              "            '<a target=\"_blank\" href=https://colab.research.google.com/notebooks/data_table.ipynb>data table notebook</a>'\n",
              "            + ' to learn more about interactive tables.';\n",
              "          element.innerHTML = '';\n",
              "          dataTable['output_type'] = 'display_data';\n",
              "          await google.colab.output.renderOutput(dataTable, element);\n",
              "          const docLink = document.createElement('div');\n",
              "          docLink.innerHTML = docLinkHtml;\n",
              "          element.appendChild(docLink);\n",
              "        }\n",
              "      </script>\n",
              "    </div>\n",
              "  </div>\n",
              "  "
            ]
          },
          "metadata": {},
          "execution_count": 22
        }
      ]
    },
    {
      "cell_type": "code",
      "source": [
        "tata_motors.head(2)"
      ],
      "metadata": {
        "colab": {
          "base_uri": "https://localhost:8080/",
          "height": 112
        },
        "id": "qmLToA6FP9f1",
        "outputId": "6cab97bb-870f-4130-e688-967405f6b251"
      },
      "execution_count": null,
      "outputs": [
        {
          "output_type": "execute_result",
          "data": {
            "text/plain": [
              "        Date Symbol Series  Prev Close   Open    High    Low   Last   Close  \\\n",
              "0 2000-01-03  TELCO     EQ      201.60  207.4  217.25  207.4  217.0  216.75   \n",
              "1 2000-01-04  TELCO     EQ      216.75  217.0  219.00  206.0  211.9  208.20   \n",
              "\n",
              "     VWAP  Volume      Turnover  \n",
              "0  214.28  676126  1.448775e+13  \n",
              "1  209.50  679215  1.422962e+13  "
            ],
            "text/html": [
              "\n",
              "  <div id=\"df-cc00734f-4401-433b-be25-ba29ce8ad042\">\n",
              "    <div class=\"colab-df-container\">\n",
              "      <div>\n",
              "<style scoped>\n",
              "    .dataframe tbody tr th:only-of-type {\n",
              "        vertical-align: middle;\n",
              "    }\n",
              "\n",
              "    .dataframe tbody tr th {\n",
              "        vertical-align: top;\n",
              "    }\n",
              "\n",
              "    .dataframe thead th {\n",
              "        text-align: right;\n",
              "    }\n",
              "</style>\n",
              "<table border=\"1\" class=\"dataframe\">\n",
              "  <thead>\n",
              "    <tr style=\"text-align: right;\">\n",
              "      <th></th>\n",
              "      <th>Date</th>\n",
              "      <th>Symbol</th>\n",
              "      <th>Series</th>\n",
              "      <th>Prev Close</th>\n",
              "      <th>Open</th>\n",
              "      <th>High</th>\n",
              "      <th>Low</th>\n",
              "      <th>Last</th>\n",
              "      <th>Close</th>\n",
              "      <th>VWAP</th>\n",
              "      <th>Volume</th>\n",
              "      <th>Turnover</th>\n",
              "    </tr>\n",
              "  </thead>\n",
              "  <tbody>\n",
              "    <tr>\n",
              "      <th>0</th>\n",
              "      <td>2000-01-03</td>\n",
              "      <td>TELCO</td>\n",
              "      <td>EQ</td>\n",
              "      <td>201.60</td>\n",
              "      <td>207.4</td>\n",
              "      <td>217.25</td>\n",
              "      <td>207.4</td>\n",
              "      <td>217.0</td>\n",
              "      <td>216.75</td>\n",
              "      <td>214.28</td>\n",
              "      <td>676126</td>\n",
              "      <td>1.448775e+13</td>\n",
              "    </tr>\n",
              "    <tr>\n",
              "      <th>1</th>\n",
              "      <td>2000-01-04</td>\n",
              "      <td>TELCO</td>\n",
              "      <td>EQ</td>\n",
              "      <td>216.75</td>\n",
              "      <td>217.0</td>\n",
              "      <td>219.00</td>\n",
              "      <td>206.0</td>\n",
              "      <td>211.9</td>\n",
              "      <td>208.20</td>\n",
              "      <td>209.50</td>\n",
              "      <td>679215</td>\n",
              "      <td>1.422962e+13</td>\n",
              "    </tr>\n",
              "  </tbody>\n",
              "</table>\n",
              "</div>\n",
              "      <button class=\"colab-df-convert\" onclick=\"convertToInteractive('df-cc00734f-4401-433b-be25-ba29ce8ad042')\"\n",
              "              title=\"Convert this dataframe to an interactive table.\"\n",
              "              style=\"display:none;\">\n",
              "        \n",
              "  <svg xmlns=\"http://www.w3.org/2000/svg\" height=\"24px\"viewBox=\"0 0 24 24\"\n",
              "       width=\"24px\">\n",
              "    <path d=\"M0 0h24v24H0V0z\" fill=\"none\"/>\n",
              "    <path d=\"M18.56 5.44l.94 2.06.94-2.06 2.06-.94-2.06-.94-.94-2.06-.94 2.06-2.06.94zm-11 1L8.5 8.5l.94-2.06 2.06-.94-2.06-.94L8.5 2.5l-.94 2.06-2.06.94zm10 10l.94 2.06.94-2.06 2.06-.94-2.06-.94-.94-2.06-.94 2.06-2.06.94z\"/><path d=\"M17.41 7.96l-1.37-1.37c-.4-.4-.92-.59-1.43-.59-.52 0-1.04.2-1.43.59L10.3 9.45l-7.72 7.72c-.78.78-.78 2.05 0 2.83L4 21.41c.39.39.9.59 1.41.59.51 0 1.02-.2 1.41-.59l7.78-7.78 2.81-2.81c.8-.78.8-2.07 0-2.86zM5.41 20L4 18.59l7.72-7.72 1.47 1.35L5.41 20z\"/>\n",
              "  </svg>\n",
              "      </button>\n",
              "      \n",
              "  <style>\n",
              "    .colab-df-container {\n",
              "      display:flex;\n",
              "      flex-wrap:wrap;\n",
              "      gap: 12px;\n",
              "    }\n",
              "\n",
              "    .colab-df-convert {\n",
              "      background-color: #E8F0FE;\n",
              "      border: none;\n",
              "      border-radius: 50%;\n",
              "      cursor: pointer;\n",
              "      display: none;\n",
              "      fill: #1967D2;\n",
              "      height: 32px;\n",
              "      padding: 0 0 0 0;\n",
              "      width: 32px;\n",
              "    }\n",
              "\n",
              "    .colab-df-convert:hover {\n",
              "      background-color: #E2EBFA;\n",
              "      box-shadow: 0px 1px 2px rgba(60, 64, 67, 0.3), 0px 1px 3px 1px rgba(60, 64, 67, 0.15);\n",
              "      fill: #174EA6;\n",
              "    }\n",
              "\n",
              "    [theme=dark] .colab-df-convert {\n",
              "      background-color: #3B4455;\n",
              "      fill: #D2E3FC;\n",
              "    }\n",
              "\n",
              "    [theme=dark] .colab-df-convert:hover {\n",
              "      background-color: #434B5C;\n",
              "      box-shadow: 0px 1px 3px 1px rgba(0, 0, 0, 0.15);\n",
              "      filter: drop-shadow(0px 1px 2px rgba(0, 0, 0, 0.3));\n",
              "      fill: #FFFFFF;\n",
              "    }\n",
              "  </style>\n",
              "\n",
              "      <script>\n",
              "        const buttonEl =\n",
              "          document.querySelector('#df-cc00734f-4401-433b-be25-ba29ce8ad042 button.colab-df-convert');\n",
              "        buttonEl.style.display =\n",
              "          google.colab.kernel.accessAllowed ? 'block' : 'none';\n",
              "\n",
              "        async function convertToInteractive(key) {\n",
              "          const element = document.querySelector('#df-cc00734f-4401-433b-be25-ba29ce8ad042');\n",
              "          const dataTable =\n",
              "            await google.colab.kernel.invokeFunction('convertToInteractive',\n",
              "                                                     [key], {});\n",
              "          if (!dataTable) return;\n",
              "\n",
              "          const docLinkHtml = 'Like what you see? Visit the ' +\n",
              "            '<a target=\"_blank\" href=https://colab.research.google.com/notebooks/data_table.ipynb>data table notebook</a>'\n",
              "            + ' to learn more about interactive tables.';\n",
              "          element.innerHTML = '';\n",
              "          dataTable['output_type'] = 'display_data';\n",
              "          await google.colab.output.renderOutput(dataTable, element);\n",
              "          const docLink = document.createElement('div');\n",
              "          docLink.innerHTML = docLinkHtml;\n",
              "          element.appendChild(docLink);\n",
              "        }\n",
              "      </script>\n",
              "    </div>\n",
              "  </div>\n",
              "  "
            ]
          },
          "metadata": {},
          "execution_count": 23
        }
      ]
    },
    {
      "cell_type": "code",
      "source": [
        "tata_motors['Month'] = tata_motors['Date'].dt.month\n",
        "tata_motors['Year'] = tata_motors['Date'].dt.year\n",
        "tata_motors['day'] = tata_motors['Date'].dt.day"
      ],
      "metadata": {
        "id": "wfrTT3ajQAyI"
      },
      "execution_count": null,
      "outputs": []
    },
    {
      "cell_type": "code",
      "source": [
        "tata_steel['Month'] = tata_steel['Date'].dt.month\n",
        "tata_steel['Year'] = tata_steel['Date'].dt.year\n",
        "tata_steel['day'] = tata_steel['Date'].dt.day"
      ],
      "metadata": {
        "id": "tXFlZJvQQCja"
      },
      "execution_count": null,
      "outputs": []
    },
    {
      "cell_type": "code",
      "source": [
        "tcs['Month'] = tcs['Date'].dt.month\n",
        "tcs['Year'] = tcs['Date'].dt.year\n",
        "tcs['day'] = tcs['Date'].dt.day"
      ],
      "metadata": {
        "id": "PAB6iUx6QENn"
      },
      "execution_count": null,
      "outputs": []
    },
    {
      "cell_type": "markdown",
      "source": [
        "# Comparing the Data"
      ],
      "metadata": {
        "id": "lQiZLPBAQIvl"
      }
    },
    {
      "cell_type": "markdown",
      "source": [
        "## On the basis of Price "
      ],
      "metadata": {
        "id": "j_5sOKpaQf7R"
      }
    },
    {
      "cell_type": "code",
      "source": [
        "# Create a Figure object with figsize and set facecolor to black\n",
        "fig = plt.figure(figsize=(20,7), facecolor='black')\n",
        "# Create a subplot with transparent facecolor\n",
        "ax = fig.add_subplot(111, facecolor='none')\n",
        "# Plot the data with specified colors\n",
        "ax.plot(tata_motors['Date'],tata_motors['Open'],color='blue',label='Tata Motors')\n",
        "ax.plot(tata_steel['Date'],tata_steel['Open'],color='grey',label='Tata steel')\n",
        "ax.plot(tcs['Date'],tcs['Open'],color='green',label='Tcs')\n",
        "# Set the title, x-axis label, and y-axis label\n",
        "ax.set_title('Relation Between Tata Motors, Tata Steel, TCS Price Opeing')\n",
        "ax.set_xlabel(\"year\", color='white')\n",
        "ax.set_ylabel(\"Price\", color='white')\n",
        "# Set the legend title color to white\n",
        "ax.legend(title =\"\", facecolor='black', edgecolor='white', labelcolor='white')\n",
        "# Set the tick colors to white\n",
        "ax.tick_params(colors='white')\n",
        "plt.show()"
      ],
      "metadata": {
        "colab": {
          "base_uri": "https://localhost:8080/",
          "height": 557
        },
        "id": "KvLAhdTCQF3K",
        "outputId": "dc6cf7f2-3903-4ea0-bb5f-56616847d46e"
      },
      "execution_count": null,
      "outputs": [
        {
          "output_type": "display_data",
          "data": {
            "text/plain": [
              "<Figure size 2000x700 with 1 Axes>"
            ],
            "image/png": "[encoded data removed]"
          },
          "metadata": {}
        }
      ]
    },
    {
      "cell_type": "markdown",
      "source": [
        "## On the basis of Volume "
      ],
      "metadata": {
        "id": "lNvB_G8zQae6"
      }
    },
    {
      "cell_type": "code",
      "source": [
        "# Create a Figure object with figsize and set facecolor to black\n",
        "fig = plt.figure(figsize=(20,7), facecolor='black')\n",
        "# Create a subplot with transparent facecolor\n",
        "ax = fig.add_subplot(111, facecolor='none')\n",
        "# Plot the data with specified colors\n",
        "ax.plot(tata_motors['Date'],tata_motors['Volume'],color='blue',label='Tata Motors')\n",
        "ax.plot(tata_steel['Date'],tata_steel['Volume'],color='grey',label='Tata steel')\n",
        "ax.plot(tcs['Date'],tcs['Volume'],color='green',label='Tcs')\n",
        "# Set the title, x-axis label, and y-axis label\n",
        "ax.set_title('Relation Between Tata Motors, Tata Steel, TCS Volume Opeing')\n",
        "ax.set_xlabel(\"year\", color='white')\n",
        "ax.set_ylabel(\"Price\", color='white')\n",
        "# Set the legend title color to white\n",
        "ax.legend(title =\"\", facecolor='black', edgecolor='white', labelcolor='white')\n",
        "# Set the tick colors to white\n",
        "ax.tick_params(colors='white')\n",
        "plt.show()"
      ],
      "metadata": {
        "colab": {
          "base_uri": "https://localhost:8080/",
          "height": 561
        },
        "id": "Wxbj_fm_QNC7",
        "outputId": "605a72a6-efaf-4349-fbe3-0f94174dcb6f"
      },
      "execution_count": null,
      "outputs": [
        {
          "output_type": "display_data",
          "data": {
            "text/plain": [
              "<Figure size 2000x700 with 1 Axes>"
            ],
            "image/png": "[encoded data removed]"
          },
          "metadata": {}
        }
      ]
    },
    {
      "cell_type": "markdown",
      "source": [
        "\n",
        "\n",
        "*   Though the price of TCS has risen more significantly as compared to Tat  Steel and Tata Motors, we can notice from the above graph that TCS has the least volume signifying that the python stock analysis has been traded comparatively less as compared to Tata Steel and Tata Motors and is lesser liquid.\n",
        "*   Tata Motors on the other hand has been traded the most signifying higher liquidity, and better order execution.\n",
        "\n"
      ],
      "metadata": {
        "id": "Ky2aI3V5QpWt"
      }
    },
    {
      "cell_type": "markdown",
      "source": [
        "# Return on Investment (ROI)"
      ],
      "metadata": {
        "id": "EpXKLqgvQ9Hx"
      }
    },
    {
      "cell_type": "markdown",
      "source": [
        "* In this part, we will analyze the ROI of Tata Steel, Tata Motors, and TCS if we buy one share of each stock on the 30th of each month beginning from January 2000 for Tata Motors and Tata Steel and November 2004 for TCS."
      ],
      "metadata": {
        "id": "N1Gs264dRAbB"
      }
    },
    {
      "cell_type": "markdown",
      "source": [
        "## Tata Motors ROI"
      ],
      "metadata": {
        "id": "s-jaWorzRWXm"
      }
    },
    {
      "cell_type": "code",
      "source": [
        "len(tata_motors)"
      ],
      "metadata": {
        "colab": {
          "base_uri": "https://localhost:8080/"
        },
        "id": "hI66YXHmQWv2",
        "outputId": "af2661b8-cc8e-498f-d0dc-7cece716a6be"
      },
      "execution_count": null,
      "outputs": [
        {
          "output_type": "execute_result",
          "data": {
            "text/plain": [
              "5306"
            ]
          },
          "metadata": {},
          "execution_count": 29
        }
      ]
    },
    {
      "cell_type": "code",
      "source": [
        "tata_motors['Open'].tail()"
      ],
      "metadata": {
        "colab": {
          "base_uri": "https://localhost:8080/"
        },
        "id": "zL-OWzHbRDm3",
        "outputId": "f98a4ca3-ab17-43a8-fe16-e182928c5be5"
      },
      "execution_count": null,
      "outputs": [
        {
          "output_type": "execute_result",
          "data": {
            "text/plain": [
              "5301    297.0\n",
              "5302    295.7\n",
              "5303    303.5\n",
              "5304    308.9\n",
              "5305    298.2\n",
              "Name: Open, dtype: float64"
            ]
          },
          "metadata": {},
          "execution_count": 30
        }
      ]
    },
    {
      "cell_type": "code",
      "source": [
        "sumTM=0 #total amount invested in Tata Motors\n",
        "s1=0 #number of shares owned by Tata Motors\n",
        "#calcuating total amount invested and number of shares owned in Tata Motors\n",
        "\n",
        "for i in range(len(tata_motors)):\n",
        "    if tata_motors.loc[i,'day']==30:\n",
        "        sumTM+=tata_motors.loc[i,'Open']\n",
        "        s1+=1\n",
        "#displaying basic results\n",
        "print(\"Total Invested in Tata Motors = Rs\",round(sumTM,2))\n",
        "print(\"Shares Owned of Tata Motors =\",s1)\n",
        "print(\"Average Investmentment of 1 share = Rs\",round((sumTM/s1),2))\n",
        "\n",
        "tm_end=298.2 #last open price of Tata Motors on 2021-04-30\n",
        "#obtained by looking at the data or can be seen after executing tata_motors.tail()\n",
        "#calculating investment results\n",
        "result1=round((tm_end*s1)-sumTM,2)\n",
        "roiTM=round((result1/sumTM)*100,2)\n",
        "#displaying investment results\n",
        "print(\"Investment Result:\")\n",
        "if result1<0:\n",
        "    print(\"Net Unrealised Loss = Rs\",result1)\n",
        "else:\n",
        "    print(\"Net Unrealised Profit = Rs\",result1)\n",
        "\n",
        "print(\"Tata Motors ROI from 2000-1-3 to 2021-04-30 =\",roiTM,\"%\")"
      ],
      "metadata": {
        "colab": {
          "base_uri": "https://localhost:8080/"
        },
        "id": "q1qOd9rdRG75",
        "outputId": "3e1c6085-72ee-42e3-f3e4-fb8c70b96683"
      },
      "execution_count": null,
      "outputs": [
        {
          "output_type": "stream",
          "name": "stdout",
          "text": [
            "Total Invested in Tata Motors = Rs 65977.3\n",
            "Shares Owned of Tata Motors = 162\n",
            "Average Investmentment of 1 share = Rs 407.27\n",
            "Investment Result:\n",
            "Net Unrealised Loss = Rs -17668.9\n",
            "Tata Motors ROI from 2000-1-3 to 2021-04-30 = -26.78 %\n"
          ]
        }
      ]
    },
    {
      "cell_type": "markdown",
      "source": [
        "## Tata Steel ROI"
      ],
      "metadata": {
        "id": "QIXXAeElRab6"
      }
    },
    {
      "cell_type": "code",
      "source": [
        "tata_steel['Open'].tail()"
      ],
      "metadata": {
        "colab": {
          "base_uri": "https://localhost:8080/"
        },
        "id": "B7QKPU0KROEp",
        "outputId": "0e41ed78-150e-42d8-9f09-fa0b0ed963ce"
      },
      "execution_count": null,
      "outputs": [
        {
          "output_type": "execute_result",
          "data": {
            "text/plain": [
              "5301     935.0\n",
              "5302     948.3\n",
              "5303     985.0\n",
              "5304     983.0\n",
              "5305    1024.0\n",
              "Name: Open, dtype: float64"
            ]
          },
          "metadata": {},
          "execution_count": 32
        }
      ]
    },
    {
      "cell_type": "code",
      "source": [
        "sumTS=0 #total amount invested in Tata Motors\n",
        "s2=0 #number of shares owned by Tata Motors\n",
        "#calcuating total amount invested and number of shares owned in Tata Motors\n",
        "\n",
        "for i in range(len(tata_steel)):\n",
        "    if tata_steel.loc[i,'day']==30:\n",
        "        sumTS+=tata_steel.loc[i,'Open']\n",
        "        s2+=1\n",
        "#displaying basic results\n",
        "print(\"Total Invested in Tata steel = Rs\",round(sumTS,2))\n",
        "print(\"Shares Owned of Tata steel =\",s2)\n",
        "print(\"Average Investmentment of 1 share = Rs\",round((sumTS/s2),2))\n",
        "\n",
        "ts_end=1024.0 #last open price of Tata Motors on 2021-04-30\n",
        "#obtained by looking at the data or can be seen after executing tata_motors.tail()\n",
        "#calculating investment results\n",
        "\n",
        "result2=round((ts_end*s2)-sumTS,2)\n",
        "roiTS=round((result2/sumTS)*100,2)\n",
        "\n",
        "#displaying investment results\n",
        "print(\"Investment Result:\")\n",
        "if result2<0:\n",
        "    print(\"Net Unrealised Loss = Rs\",result2)\n",
        "else:\n",
        "    print(\"Net Unrealised Profit = Rs\",result2)\n",
        "    \n",
        "print(\"Tata Steel ROI from 2000-1-3 to 2021-04-30 =\",roiTS,\"%\")"
      ],
      "metadata": {
        "colab": {
          "base_uri": "https://localhost:8080/"
        },
        "id": "rc15DtLsReu8",
        "outputId": "7eb6add8-abfd-4bc7-eccd-232a9dc7cfc3"
      },
      "execution_count": null,
      "outputs": [
        {
          "output_type": "stream",
          "name": "stdout",
          "text": [
            "Total Invested in Tata steel = Rs 65825.9\n",
            "Shares Owned of Tata steel = 162\n",
            "Average Investmentment of 1 share = Rs 406.33\n",
            "Investment Result:\n",
            "Net Unrealised Profit = Rs 100062.1\n",
            "Tata Steel ROI from 2000-1-3 to 2021-04-30 = 152.01 %\n"
          ]
        }
      ]
    },
    {
      "cell_type": "markdown",
      "source": [
        "## TCS ROI"
      ],
      "metadata": {
        "id": "F4gwItFZRmQ2"
      }
    },
    {
      "cell_type": "code",
      "source": [
        "tcs['Open'].tail()"
      ],
      "metadata": {
        "colab": {
          "base_uri": "https://localhost:8080/"
        },
        "id": "DdjPw16yRiaJ",
        "outputId": "ec12f650-f4be-4fbf-99b7-57e77c85c758"
      },
      "execution_count": null,
      "outputs": [
        {
          "output_type": "execute_result",
          "data": {
            "text/plain": [
              "4134    3102.05\n",
              "4135    3106.00\n",
              "4136    3149.95\n",
              "4137    3145.60\n",
              "4138    3099.00\n",
              "Name: Open, dtype: float64"
            ]
          },
          "metadata": {},
          "execution_count": 34
        }
      ]
    },
    {
      "cell_type": "code",
      "source": [
        "sumTCS=0 #total amount invested in Tata Motors\n",
        "s3=0 #number of shares owned by Tata Motors\n",
        "#calcuating total amount invested and number of shares owned in Tata Motors\n",
        "for i in range(len(tcs)):\n",
        "    if tcs.loc[i,'day']==30:\n",
        "        sumTCS+=tcs.loc[i,'Open']\n",
        "        s3+=1\n",
        "#displaying basic results\n",
        "print(\"Total Invested in TCS = Rs\",round(sumTCS,2))\n",
        "print(\"Shares Owned of TCS =\",s3)\n",
        "print(\"Average Investmentment of 1 share = Rs\",round((sumTCS/s3),2))\n",
        "\n",
        "tcs_end=3099.0 #last open price of Tata Motors on 2021-04-30\n",
        "#obtained by looking at the data or can be seen after executing tata_motors.tail()\n",
        "\n",
        "#calculating investment results\n",
        "result3=round((tcs_end*s3)-sumTCS,2)\n",
        "roiTcs=round((result3/sumTCS)*100,2)\n",
        "\n",
        "#displaying investment results\n",
        "print(\"Investment Result:\")\n",
        "if result3<0:\n",
        "    print(\"Net Unrealised Loss = Rs\",result3)\n",
        "else:\n",
        "    print(\"Net Unrealised Profit = Rs\",result3)\n",
        "\n",
        "print(\"TCS ROI from 2000-1-3 to 2021-04-30 =\",roiTcs,\"%\")"
      ],
      "metadata": {
        "colab": {
          "base_uri": "https://localhost:8080/"
        },
        "id": "iFLmOajMRly1",
        "outputId": "b9f4af7b-78b7-4467-896e-222ebc037fae"
      },
      "execution_count": null,
      "outputs": [
        {
          "output_type": "stream",
          "name": "stdout",
          "text": [
            "Total Invested in TCS = Rs 220762.0\n",
            "Shares Owned of TCS = 128\n",
            "Average Investmentment of 1 share = Rs 1724.7\n",
            "Investment Result:\n",
            "Net Unrealised Profit = Rs 175910.0\n",
            "TCS ROI from 2000-1-3 to 2021-04-30 = 79.68 %\n"
          ]
        }
      ]
    },
    {
      "cell_type": "markdown",
      "source": [
        "From the above results, we can conclude that Tata Steel’s ROI is significantly larger than that of Tata Motors and TCS. TCS on the other hand, has made the greatest profit"
      ],
      "metadata": {
        "id": "_ZmoES0_RxGb"
      }
    },
    {
      "cell_type": "markdown",
      "source": [
        "## Ploting ROI on Bar Graphs"
      ],
      "metadata": {
        "id": "99WyD9ewR21s"
      }
    },
    {
      "cell_type": "code",
      "source": [
        "# Plotting ROI Amount on Bar Graph\n",
        "\n",
        "plt.figure(figsize=(5,3))\n",
        "stock = ['Tata Motors','Tata Steel','TCS']\n",
        "ROI = [roiTM, roiTS, roiTcs]\n",
        "col = ['Blue','Grey','Orange']\n",
        "plt.bar(stock,ROI,color=col)\n",
        "plt.title(\"ROI\")\n",
        "plt.ylabel(\"Amount\")\n",
        "plt.show()"
      ],
      "metadata": {
        "colab": {
          "base_uri": "https://localhost:8080/",
          "height": 314
        },
        "id": "On2Um5ERRtUO",
        "outputId": "44457745-b5cf-4c86-f18a-de08effea1a7"
      },
      "execution_count": null,
      "outputs": [
        {
          "output_type": "display_data",
          "data": {
            "text/plain": [
              "<Figure size 500x300 with 1 Axes>"
            ],
            "image/png": "[encoded data removed]"
          },
          "metadata": {}
        }
      ]
    },
    {
      "cell_type": "markdown",
      "source": [
        "## Profit and Loss on Bar Graphs"
      ],
      "metadata": {
        "id": "NeP3UUg4SGQH"
      }
    },
    {
      "cell_type": "code",
      "source": [
        "# Plotting Profit/Loss Amount on Bar Graph\n",
        "\n",
        "plt.figure(figsize=(5,5))\n",
        "stock = ['Tata Motors','Tata Steel','TCS']\n",
        "amt = [result1, result2, result3]\n",
        "col = ['Blue','Grey','Orange']\n",
        "plt.bar(stock,amt,color=col)\n",
        "plt.title(\" Profit and Loss\")\n",
        "plt.ylabel(\"Amount\")\n",
        "plt.show()"
      ],
      "metadata": {
        "colab": {
          "base_uri": "https://localhost:8080/",
          "height": 468
        },
        "id": "5xHZkOZsR6Yv",
        "outputId": "6c21a540-df0b-4546-d51c-23f8d4dfa4d8"
      },
      "execution_count": null,
      "outputs": [
        {
          "output_type": "display_data",
          "data": {
            "text/plain": [
              "<Figure size 500x500 with 1 Axes>"
            ],
            "image/png": "[encoded data removed]"
          },
          "metadata": {}
        }
      ]
    },
    {
      "cell_type": "markdown",
      "source": [
        "## Portfolio Allocation"
      ],
      "metadata": {
        "id": "rROGMYR7SPsY"
      }
    },
    {
      "cell_type": "code",
      "source": [
        "# Plotting Portfolio Allocation on Pie chart\n",
        "\n",
        "plt.figure(figsize=(5,6))\n",
        "stock = ['Tata Motors','Tata Steel','TCS']\n",
        "shares = [s1, s2, s3]\n",
        "col = ['Blue','Grey','Orange']\n",
        "plt.pie(shares,labels=stock,autopct=\"%1.2f%%\",colors=col)\n",
        "plt.legend(title=\"\",loc=\"upper left\")\n",
        "plt.title(\"Portfolio Allocation\")\n",
        "plt.ylabel(\"Amount\")\n",
        "plt.show()"
      ],
      "metadata": {
        "colab": {
          "base_uri": "https://localhost:8080/",
          "height": 446
        },
        "id": "6wiKxpfiSKZK",
        "outputId": "148c71f0-2d18-49a4-cdc9-d0bfa3650669"
      },
      "execution_count": null,
      "outputs": [
        {
          "output_type": "display_data",
          "data": {
            "text/plain": [
              "<Figure size 500x600 with 1 Axes>"
            ],
            "image/png": "[encoded data removed]"
          },
          "metadata": {}
        }
      ]
    },
    {
      "cell_type": "markdown",
      "source": [
        "# Time Series Prediction"
      ],
      "metadata": {
        "id": "jrZND8Dyfynq"
      }
    },
    {
      "cell_type": "code",
      "source": [
        "# Load the data\n",
        "df = pd.read_csv('TATAMOTORS.csv', index_col='Date')\n",
        "\n",
        "# Create the features and target variables\n",
        "X = df[['Open', 'High', 'Low', 'Volume']]\n",
        "y = df['Close']"
      ],
      "metadata": {
        "id": "NHLxLcbOf_I0"
      },
      "execution_count": null,
      "outputs": []
    },
    {
      "cell_type": "code",
      "source": [
        "# Scale the data\n",
        "scaler = MinMaxScaler()\n",
        "X_scaled = scaler.fit_transform(X)\n",
        "y_scaled = scaler.fit_transform(y.values.reshape(-1, 1))"
      ],
      "metadata": {
        "id": "015YvB6PgBU0"
      },
      "execution_count": null,
      "outputs": []
    },
    {
      "cell_type": "code",
      "source": [
        "# Split the data into train and test sets\n",
        "train_size = int(len(X) * 0.8)\n",
        "X_train, X_test = X_scaled[:train_size], X_scaled[train_size:]\n",
        "y_train, y_test = y_scaled[:train_size], y_scaled[train_size:]"
      ],
      "metadata": {
        "id": "2oW2eSgdgDxj"
      },
      "execution_count": null,
      "outputs": []
    },
    {
      "cell_type": "code",
      "source": [
        "# Build the Random Forest model\n",
        "model = RandomForestRegressor(n_estimators=100, random_state=42)\n",
        "\n",
        "# Train the model\n",
        "model.fit(X_train, y_train.ravel())"
      ],
      "metadata": {
        "colab": {
          "base_uri": "https://localhost:8080/",
          "height": 74
        },
        "id": "fd2yc67ogGoE",
        "outputId": "b5ed8e76-bb29-4499-a8a0-fa94ac922784"
      },
      "execution_count": null,
      "outputs": [
        {
          "output_type": "execute_result",
          "data": {
            "text/plain": [
              "RandomForestRegressor(random_state=42)"
            ],
            "text/html": [
              "<style>#sk-container-id-1 {color: black;background-color: white;}#sk-container-id-1 pre{padding: 0;}#sk-container-id-1 div.sk-toggleable {background-color: white;}#sk-container-id-1 label.sk-toggleable__label {cursor: pointer;display: block;width: 100%;margin-bottom: 0;padding: 0.3em;box-sizing: border-box;text-align: center;}#sk-container-id-1 label.sk-toggleable__label-arrow:before {content: \"▸\";float: left;margin-right: 0.25em;color: #696969;}#sk-container-id-1 label.sk-toggleable__label-arrow:hover:before {color: black;}#sk-container-id-1 div.sk-estimator:hover label.sk-toggleable__label-arrow:before {color: black;}#sk-container-id-1 div.sk-toggleable__content {max-height: 0;max-width: 0;overflow: hidden;text-align: left;background-color: #f0f8ff;}#sk-container-id-1 div.sk-toggleable__content pre {margin: 0.2em;color: black;border-radius: 0.25em;background-color: #f0f8ff;}#sk-container-id-1 input.sk-toggleable__control:checked~div.sk-toggleable__content {max-height: 200px;max-width: 100%;overflow: auto;}#sk-container-id-1 input.sk-toggleable__control:checked~label.sk-toggleable__label-arrow:before {content: \"▾\";}#sk-container-id-1 div.sk-estimator input.sk-toggleable__control:checked~label.sk-toggleable__label {background-color: #d4ebff;}#sk-container-id-1 div.sk-label input.sk-toggleable__control:checked~label.sk-toggleable__label {background-color: #d4ebff;}#sk-container-id-1 input.sk-hidden--visually {border: 0;clip: rect(1px 1px 1px 1px);clip: rect(1px, 1px, 1px, 1px);height: 1px;margin: -1px;overflow: hidden;padding: 0;position: absolute;width: 1px;}#sk-container-id-1 div.sk-estimator {font-family: monospace;background-color: #f0f8ff;border: 1px dotted black;border-radius: 0.25em;box-sizing: border-box;margin-bottom: 0.5em;}#sk-container-id-1 div.sk-estimator:hover {background-color: #d4ebff;}#sk-container-id-1 div.sk-parallel-item::after {content: \"\";width: 100%;border-bottom: 1px solid gray;flex-grow: 1;}#sk-container-id-1 div.sk-label:hover label.sk-toggleable__label {background-color: #d4ebff;}#sk-container-id-1 div.sk-serial::before {content: \"\";position: absolute;border-left: 1px solid gray;box-sizing: border-box;top: 0;bottom: 0;left: 50%;z-index: 0;}#sk-container-id-1 div.sk-serial {display: flex;flex-direction: column;align-items: center;background-color: white;padding-right: 0.2em;padding-left: 0.2em;position: relative;}#sk-container-id-1 div.sk-item {position: relative;z-index: 1;}#sk-container-id-1 div.sk-parallel {display: flex;align-items: stretch;justify-content: center;background-color: white;position: relative;}#sk-container-id-1 div.sk-item::before, #sk-container-id-1 div.sk-parallel-item::before {content: \"\";position: absolute;border-left: 1px solid gray;box-sizing: border-box;top: 0;bottom: 0;left: 50%;z-index: -1;}#sk-container-id-1 div.sk-parallel-item {display: flex;flex-direction: column;z-index: 1;position: relative;background-color: white;}#sk-container-id-1 div.sk-parallel-item:first-child::after {align-self: flex-end;width: 50%;}#sk-container-id-1 div.sk-parallel-item:last-child::after {align-self: flex-start;width: 50%;}#sk-container-id-1 div.sk-parallel-item:only-child::after {width: 0;}#sk-container-id-1 div.sk-dashed-wrapped {border: 1px dashed gray;margin: 0 0.4em 0.5em 0.4em;box-sizing: border-box;padding-bottom: 0.4em;background-color: white;}#sk-container-id-1 div.sk-label label {font-family: monospace;font-weight: bold;display: inline-block;line-height: 1.2em;}#sk-container-id-1 div.sk-label-container {text-align: center;}#sk-container-id-1 div.sk-container {/* jupyter's `normalize.less` sets `[hidden] { display: none; }` but bootstrap.min.css set `[hidden] { display: none !important; }` so we also need the `!important` here to be able to override the default hidden behavior on the sphinx rendered scikit-learn.org. See: https://github.com/scikit-learn/scikit-learn/issues/21755 */display: inline-block !important;position: relative;}#sk-container-id-1 div.sk-text-repr-fallback {display: none;}</style><div id=\"sk-container-id-1\" class=\"sk-top-container\"><div class=\"sk-text-repr-fallback\"><pre>RandomForestRegressor(random_state=42)</pre><b>In a Jupyter environment, please rerun this cell to show the HTML representation or trust the notebook. <br />On GitHub, the HTML representation is unable to render, please try loading this page with nbviewer.org.</b></div><div class=\"sk-container\" hidden><div class=\"sk-item\"><div class=\"sk-estimator sk-toggleable\"><input class=\"sk-toggleable__control sk-hidden--visually\" id=\"sk-estimator-id-1\" type=\"checkbox\" checked><label for=\"sk-estimator-id-1\" class=\"sk-toggleable__label sk-toggleable__label-arrow\">RandomForestRegressor</label><div class=\"sk-toggleable__content\"><pre>RandomForestRegressor(random_state=42)</pre></div></div></div></div></div>"
            ]
          },
          "metadata": {},
          "execution_count": 42
        }
      ]
    },
    {
      "cell_type": "code",
      "source": [
        "# Predict the future price of Tata Motors stock\n",
        "y_train_pred = model.predict(X_train)\n",
        "y_test_pred = model.predict(X_test)\n",
        "\n",
        "# Scale back the predictions to the original range\n",
        "y_train_pred = scaler.inverse_transform(y_train_pred.reshape(-1, 1))\n",
        "y_test_pred = scaler.inverse_transform(y_test_pred.reshape(-1, 1))"
      ],
      "metadata": {
        "id": "qYvnC2O0gIqm"
      },
      "execution_count": null,
      "outputs": []
    },
    {
      "cell_type": "code",
      "source": [
        "# Calculate the mean squared error\n",
        "mse_train = mean_squared_error(y_train, y_train_pred)\n",
        "mse_test = mean_squared_error(y_test, y_test_pred)\n",
        "\n",
        "print(\"Train MSE:\", mse_train)\n",
        "print(\"Test MSE:\", mse_test)"
      ],
      "metadata": {
        "colab": {
          "base_uri": "https://localhost:8080/"
        },
        "id": "t7dBbzxzXE88",
        "outputId": "f859edff-e6c0-41c0-f9cf-6cafddbb07aa"
      },
      "execution_count": null,
      "outputs": [
        {
          "output_type": "stream",
          "name": "stdout",
          "text": [
            "Train MSE: 281449.14705954376\n",
            "Test MSE: 82112.02542829828\n"
          ]
        }
      ]
    },
    {
      "cell_type": "code",
      "source": [
        "# Plot the time series\n",
        "plt.figure(figsize=(12, 6))\n",
        "plt.plot(df.index[:train_size], y[:train_size], color='blue', linewidth=0.5, label='Training Prices')\n",
        "plt.plot(df.index[train_size:], y[train_size:], color='red', linewidth=0.5, label='Testing Prices (Original)')\n",
        "plt.plot(df.index[train_size:], y_test_pred, color='green', linewidth=0.5, label='Testing Prices (Predicted)')\n",
        "plt.xlabel('Year')\n",
        "plt.ylabel('Price')\n",
        "plt.title('Tata Motors Stock Prices')\n",
        "plt.legend()\n",
        "plt.xticks(np.arange(len(df))[::len(df)//20], [str(year)[:4] for year in df.index[::len(df)//20]])\n",
        "plt.show()"
      ],
      "metadata": {
        "colab": {
          "base_uri": "https://localhost:8080/",
          "height": 564
        },
        "id": "TJVYcQobaiPI",
        "outputId": "fddd1f41-879c-466b-c2ac-7da575c3bf1c"
      },
      "execution_count": null,
      "outputs": [
        {
          "output_type": "display_data",
          "data": {
            "text/plain": [
              "<Figure size 1200x600 with 1 Axes>"
            ],
            "image/png": "[encoded data removed]"
          },
          "metadata": {}
        }
      ]
    }
  ],
  "metadata": {
    "colab": {
      "provenance": []
    },
    "kernelspec": {
      "display_name": "Python 3",
      "name": "python3"
    },
    "language_info": {
      "name": "python"
    }
  },
  "nbformat": 4,
  "nbformat_minor": 0
}